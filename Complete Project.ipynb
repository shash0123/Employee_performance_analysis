{
 "cells": [
  {
   "cell_type": "markdown",
   "metadata": {
    "id": "26k_G-xOx4uT"
   },
   "source": [
    "# PROJECT SUMMARY\n",
    "\n",
    "### INX Future Inc Employee Performance\n",
    "\n",
    "**The goal and insights of the projects:**\n",
    "\n",
    "* Department wise Performances\n",
    "* Top 3 Important Factors effecting employee performance\n",
    "* A trained model which can predict the employee performance based on factors as inputs. This will be used to hire employees\n",
    "* Recommendations to improve the employee performance based on insights from analysis"
   ]
  },
  {
   "cell_type": "markdown",
   "metadata": {
    "id": "RXejGGeQyrD6"
   },
   "source": [
    "## Introduction\n",
    "\n",
    "The dataset contains information related to employee data and their Performance Rating. The data has been collected on purpose of analyzing and predicting the Performance of the employee based on varies features, provinding essential information and context."
   ]
  },
  {
   "cell_type": "markdown",
   "metadata": {
    "id": "OvLS98CNriqX"
   },
   "source": [
    "Importing packages"
   ]
  },
  {
   "cell_type": "code",
   "execution_count": 1,
   "metadata": {
    "id": "woUHEzqXkWFa"
   },
   "outputs": [
    {
     "ename": "ModuleNotFoundError",
     "evalue": "No module named 'matplotlib.artist'",
     "output_type": "error",
     "traceback": [
      "\u001b[1;31m---------------------------------------------------------------------------\u001b[0m",
      "\u001b[1;31mModuleNotFoundError\u001b[0m                       Traceback (most recent call last)",
      "Cell \u001b[1;32mIn[1], line 3\u001b[0m\n\u001b[0;32m      1\u001b[0m \u001b[38;5;28;01mimport\u001b[39;00m \u001b[38;5;21;01mnumpy\u001b[39;00m \u001b[38;5;28;01mas\u001b[39;00m \u001b[38;5;21;01mnp\u001b[39;00m\n\u001b[0;32m      2\u001b[0m \u001b[38;5;28;01mimport\u001b[39;00m \u001b[38;5;21;01mpandas\u001b[39;00m \u001b[38;5;28;01mas\u001b[39;00m \u001b[38;5;21;01mpd\u001b[39;00m\n\u001b[1;32m----> 3\u001b[0m \u001b[38;5;28;01mimport\u001b[39;00m \u001b[38;5;21;01mseaborn\u001b[39;00m \u001b[38;5;28;01mas\u001b[39;00m \u001b[38;5;21;01msns\u001b[39;00m\n\u001b[0;32m      4\u001b[0m \u001b[38;5;28;01mimport\u001b[39;00m \u001b[38;5;21;01mmatplotlib\u001b[39;00m\u001b[38;5;21;01m.\u001b[39;00m\u001b[38;5;21;01mpyplot\u001b[39;00m \u001b[38;5;28;01mas\u001b[39;00m \u001b[38;5;21;01mplt\u001b[39;00m\n\u001b[0;32m      5\u001b[0m get_ipython()\u001b[38;5;241m.\u001b[39mrun_line_magic(\u001b[38;5;124m'\u001b[39m\u001b[38;5;124mmatplotlib\u001b[39m\u001b[38;5;124m'\u001b[39m, \u001b[38;5;124m'\u001b[39m\u001b[38;5;124minline\u001b[39m\u001b[38;5;124m'\u001b[39m)\n",
      "File \u001b[1;32mD:\\Anaconda\\Lib\\site-packages\\seaborn\\__init__.py:2\u001b[0m\n\u001b[0;32m      1\u001b[0m \u001b[38;5;66;03m# Import seaborn objects\u001b[39;00m\n\u001b[1;32m----> 2\u001b[0m \u001b[38;5;28;01mfrom\u001b[39;00m \u001b[38;5;21;01m.\u001b[39;00m\u001b[38;5;21;01mrcmod\u001b[39;00m \u001b[38;5;28;01mimport\u001b[39;00m \u001b[38;5;241m*\u001b[39m  \u001b[38;5;66;03m# noqa: F401,F403\u001b[39;00m\n\u001b[0;32m      3\u001b[0m \u001b[38;5;28;01mfrom\u001b[39;00m \u001b[38;5;21;01m.\u001b[39;00m\u001b[38;5;21;01mutils\u001b[39;00m \u001b[38;5;28;01mimport\u001b[39;00m \u001b[38;5;241m*\u001b[39m  \u001b[38;5;66;03m# noqa: F401,F403\u001b[39;00m\n\u001b[0;32m      4\u001b[0m \u001b[38;5;28;01mfrom\u001b[39;00m \u001b[38;5;21;01m.\u001b[39;00m\u001b[38;5;21;01mpalettes\u001b[39;00m \u001b[38;5;28;01mimport\u001b[39;00m \u001b[38;5;241m*\u001b[39m  \u001b[38;5;66;03m# noqa: F401,F403\u001b[39;00m\n",
      "File \u001b[1;32mD:\\Anaconda\\Lib\\site-packages\\seaborn\\rcmod.py:5\u001b[0m\n\u001b[0;32m      3\u001b[0m \u001b[38;5;28;01mimport\u001b[39;00m \u001b[38;5;21;01mmatplotlib\u001b[39;00m \u001b[38;5;28;01mas\u001b[39;00m \u001b[38;5;21;01mmpl\u001b[39;00m\n\u001b[0;32m      4\u001b[0m \u001b[38;5;28;01mfrom\u001b[39;00m \u001b[38;5;21;01mcycler\u001b[39;00m \u001b[38;5;28;01mimport\u001b[39;00m cycler\n\u001b[1;32m----> 5\u001b[0m \u001b[38;5;28;01mfrom\u001b[39;00m \u001b[38;5;21;01m.\u001b[39;00m \u001b[38;5;28;01mimport\u001b[39;00m palettes\n\u001b[0;32m      8\u001b[0m __all__ \u001b[38;5;241m=\u001b[39m [\u001b[38;5;124m\"\u001b[39m\u001b[38;5;124mset_theme\u001b[39m\u001b[38;5;124m\"\u001b[39m, \u001b[38;5;124m\"\u001b[39m\u001b[38;5;124mset\u001b[39m\u001b[38;5;124m\"\u001b[39m, \u001b[38;5;124m\"\u001b[39m\u001b[38;5;124mreset_defaults\u001b[39m\u001b[38;5;124m\"\u001b[39m, \u001b[38;5;124m\"\u001b[39m\u001b[38;5;124mreset_orig\u001b[39m\u001b[38;5;124m\"\u001b[39m,\n\u001b[0;32m      9\u001b[0m            \u001b[38;5;124m\"\u001b[39m\u001b[38;5;124maxes_style\u001b[39m\u001b[38;5;124m\"\u001b[39m, \u001b[38;5;124m\"\u001b[39m\u001b[38;5;124mset_style\u001b[39m\u001b[38;5;124m\"\u001b[39m, \u001b[38;5;124m\"\u001b[39m\u001b[38;5;124mplotting_context\u001b[39m\u001b[38;5;124m\"\u001b[39m, \u001b[38;5;124m\"\u001b[39m\u001b[38;5;124mset_context\u001b[39m\u001b[38;5;124m\"\u001b[39m,\n\u001b[0;32m     10\u001b[0m            \u001b[38;5;124m\"\u001b[39m\u001b[38;5;124mset_palette\u001b[39m\u001b[38;5;124m\"\u001b[39m]\n\u001b[0;32m     13\u001b[0m _style_keys \u001b[38;5;241m=\u001b[39m [\n\u001b[0;32m     14\u001b[0m \n\u001b[0;32m     15\u001b[0m     \u001b[38;5;124m\"\u001b[39m\u001b[38;5;124maxes.facecolor\u001b[39m\u001b[38;5;124m\"\u001b[39m,\n\u001b[1;32m   (...)\u001b[0m\n\u001b[0;32m     50\u001b[0m \n\u001b[0;32m     51\u001b[0m ]\n",
      "File \u001b[1;32mD:\\Anaconda\\Lib\\site-packages\\seaborn\\palettes.py:9\u001b[0m\n\u001b[0;32m      5\u001b[0m \u001b[38;5;28;01mimport\u001b[39;00m \u001b[38;5;21;01mmatplotlib\u001b[39;00m \u001b[38;5;28;01mas\u001b[39;00m \u001b[38;5;21;01mmpl\u001b[39;00m\n\u001b[0;32m      7\u001b[0m \u001b[38;5;28;01mfrom\u001b[39;00m \u001b[38;5;21;01m.\u001b[39;00m\u001b[38;5;21;01mexternal\u001b[39;00m \u001b[38;5;28;01mimport\u001b[39;00m husl\n\u001b[1;32m----> 9\u001b[0m \u001b[38;5;28;01mfrom\u001b[39;00m \u001b[38;5;21;01m.\u001b[39;00m\u001b[38;5;21;01mutils\u001b[39;00m \u001b[38;5;28;01mimport\u001b[39;00m desaturate, get_color_cycle\n\u001b[0;32m     10\u001b[0m \u001b[38;5;28;01mfrom\u001b[39;00m \u001b[38;5;21;01m.\u001b[39;00m\u001b[38;5;21;01mcolors\u001b[39;00m \u001b[38;5;28;01mimport\u001b[39;00m xkcd_rgb, crayons\n\u001b[0;32m     11\u001b[0m \u001b[38;5;28;01mfrom\u001b[39;00m \u001b[38;5;21;01m.\u001b[39;00m\u001b[38;5;21;01m_compat\u001b[39;00m \u001b[38;5;28;01mimport\u001b[39;00m get_colormap\n",
      "File \u001b[1;32mD:\\Anaconda\\Lib\\site-packages\\seaborn\\utils.py:14\u001b[0m\n\u001b[0;32m     12\u001b[0m \u001b[38;5;28;01mimport\u001b[39;00m \u001b[38;5;21;01mmatplotlib\u001b[39;00m \u001b[38;5;28;01mas\u001b[39;00m \u001b[38;5;21;01mmpl\u001b[39;00m\n\u001b[0;32m     13\u001b[0m \u001b[38;5;28;01mfrom\u001b[39;00m \u001b[38;5;21;01mmatplotlib\u001b[39;00m\u001b[38;5;21;01m.\u001b[39;00m\u001b[38;5;21;01mcolors\u001b[39;00m \u001b[38;5;28;01mimport\u001b[39;00m to_rgb\n\u001b[1;32m---> 14\u001b[0m \u001b[38;5;28;01mimport\u001b[39;00m \u001b[38;5;21;01mmatplotlib\u001b[39;00m\u001b[38;5;21;01m.\u001b[39;00m\u001b[38;5;21;01mpyplot\u001b[39;00m \u001b[38;5;28;01mas\u001b[39;00m \u001b[38;5;21;01mplt\u001b[39;00m\n\u001b[0;32m     15\u001b[0m \u001b[38;5;28;01mfrom\u001b[39;00m \u001b[38;5;21;01mmatplotlib\u001b[39;00m\u001b[38;5;21;01m.\u001b[39;00m\u001b[38;5;21;01mcbook\u001b[39;00m \u001b[38;5;28;01mimport\u001b[39;00m normalize_kwargs\n\u001b[0;32m     17\u001b[0m \u001b[38;5;28;01mfrom\u001b[39;00m \u001b[38;5;21;01m.\u001b[39;00m\u001b[38;5;21;01mexternal\u001b[39;00m\u001b[38;5;21;01m.\u001b[39;00m\u001b[38;5;21;01mversion\u001b[39;00m \u001b[38;5;28;01mimport\u001b[39;00m Version\n",
      "File \u001b[1;32mD:\\Anaconda\\Lib\\site-packages\\matplotlib\\pyplot.py:52\u001b[0m\n\u001b[0;32m     50\u001b[0m \u001b[38;5;28;01mfrom\u001b[39;00m \u001b[38;5;21;01mcycler\u001b[39;00m \u001b[38;5;28;01mimport\u001b[39;00m cycler\n\u001b[0;32m     51\u001b[0m \u001b[38;5;28;01mimport\u001b[39;00m \u001b[38;5;21;01mmatplotlib\u001b[39;00m\n\u001b[1;32m---> 52\u001b[0m \u001b[38;5;28;01mimport\u001b[39;00m \u001b[38;5;21;01mmatplotlib\u001b[39;00m\u001b[38;5;21;01m.\u001b[39;00m\u001b[38;5;21;01mcolorbar\u001b[39;00m\n\u001b[0;32m     53\u001b[0m \u001b[38;5;28;01mimport\u001b[39;00m \u001b[38;5;21;01mmatplotlib\u001b[39;00m\u001b[38;5;21;01m.\u001b[39;00m\u001b[38;5;21;01mimage\u001b[39;00m\n\u001b[0;32m     54\u001b[0m \u001b[38;5;28;01mfrom\u001b[39;00m \u001b[38;5;21;01mmatplotlib\u001b[39;00m \u001b[38;5;28;01mimport\u001b[39;00m _api\n",
      "File \u001b[1;32mD:\\Anaconda\\Lib\\site-packages\\matplotlib\\colorbar.py:19\u001b[0m\n\u001b[0;32m     16\u001b[0m \u001b[38;5;28;01mimport\u001b[39;00m \u001b[38;5;21;01mnumpy\u001b[39;00m \u001b[38;5;28;01mas\u001b[39;00m \u001b[38;5;21;01mnp\u001b[39;00m\n\u001b[0;32m     18\u001b[0m \u001b[38;5;28;01mimport\u001b[39;00m \u001b[38;5;21;01mmatplotlib\u001b[39;00m \u001b[38;5;28;01mas\u001b[39;00m \u001b[38;5;21;01mmpl\u001b[39;00m\n\u001b[1;32m---> 19\u001b[0m \u001b[38;5;28;01mfrom\u001b[39;00m \u001b[38;5;21;01mmatplotlib\u001b[39;00m \u001b[38;5;28;01mimport\u001b[39;00m _api, cbook, collections, cm, colors, contour, ticker\n\u001b[0;32m     20\u001b[0m \u001b[38;5;28;01mimport\u001b[39;00m \u001b[38;5;21;01mmatplotlib\u001b[39;00m\u001b[38;5;21;01m.\u001b[39;00m\u001b[38;5;21;01martist\u001b[39;00m \u001b[38;5;28;01mas\u001b[39;00m \u001b[38;5;21;01mmartist\u001b[39;00m\n\u001b[0;32m     21\u001b[0m \u001b[38;5;28;01mimport\u001b[39;00m \u001b[38;5;21;01mmatplotlib\u001b[39;00m\u001b[38;5;21;01m.\u001b[39;00m\u001b[38;5;21;01mpatches\u001b[39;00m \u001b[38;5;28;01mas\u001b[39;00m \u001b[38;5;21;01mmpatches\u001b[39;00m\n",
      "File \u001b[1;32mD:\\Anaconda\\Lib\\site-packages\\matplotlib\\collections.py:19\u001b[0m\n\u001b[0;32m     16\u001b[0m \u001b[38;5;28;01mimport\u001b[39;00m \u001b[38;5;21;01mnumpy\u001b[39;00m \u001b[38;5;28;01mas\u001b[39;00m \u001b[38;5;21;01mnp\u001b[39;00m\n\u001b[0;32m     18\u001b[0m \u001b[38;5;28;01mimport\u001b[39;00m \u001b[38;5;21;01mmatplotlib\u001b[39;00m \u001b[38;5;28;01mas\u001b[39;00m \u001b[38;5;21;01mmpl\u001b[39;00m\n\u001b[1;32m---> 19\u001b[0m \u001b[38;5;28;01mfrom\u001b[39;00m \u001b[38;5;21;01m.\u001b[39;00m \u001b[38;5;28;01mimport\u001b[39;00m (_api, _path, artist, cbook, cm, colors \u001b[38;5;28;01mas\u001b[39;00m mcolors, _docstring,\n\u001b[0;32m     20\u001b[0m                hatch \u001b[38;5;28;01mas\u001b[39;00m mhatch, lines \u001b[38;5;28;01mas\u001b[39;00m mlines, path \u001b[38;5;28;01mas\u001b[39;00m mpath, transforms)\n\u001b[0;32m     21\u001b[0m \u001b[38;5;28;01mfrom\u001b[39;00m \u001b[38;5;21;01m.\u001b[39;00m\u001b[38;5;21;01m_enums\u001b[39;00m \u001b[38;5;28;01mimport\u001b[39;00m JoinStyle, CapStyle\n\u001b[0;32m     24\u001b[0m \u001b[38;5;66;03m# \"color\" is excluded; it is a compound setter, and its docstring differs\u001b[39;00m\n\u001b[0;32m     25\u001b[0m \u001b[38;5;66;03m# in LineCollection.\u001b[39;00m\n",
      "File \u001b[1;32mD:\\Anaconda\\Lib\\site-packages\\matplotlib\\lines.py:14\u001b[0m\n\u001b[0;32m     12\u001b[0m \u001b[38;5;28;01mimport\u001b[39;00m \u001b[38;5;21;01mmatplotlib\u001b[39;00m \u001b[38;5;28;01mas\u001b[39;00m \u001b[38;5;21;01mmpl\u001b[39;00m\n\u001b[0;32m     13\u001b[0m \u001b[38;5;28;01mfrom\u001b[39;00m \u001b[38;5;21;01m.\u001b[39;00m \u001b[38;5;28;01mimport\u001b[39;00m _api, cbook, colors \u001b[38;5;28;01mas\u001b[39;00m mcolors, _docstring\n\u001b[1;32m---> 14\u001b[0m \u001b[38;5;28;01mfrom\u001b[39;00m \u001b[38;5;21;01m.\u001b[39;00m\u001b[38;5;21;01martist\u001b[39;00m \u001b[38;5;28;01mimport\u001b[39;00m Artist, allow_rasterization\n\u001b[0;32m     15\u001b[0m \u001b[38;5;28;01mfrom\u001b[39;00m \u001b[38;5;21;01m.\u001b[39;00m\u001b[38;5;21;01mcbook\u001b[39;00m \u001b[38;5;28;01mimport\u001b[39;00m (\n\u001b[0;32m     16\u001b[0m     _to_unmasked_float_array, ls_mapper, ls_mapper_r, STEP_LOOKUP_MAP)\n\u001b[0;32m     17\u001b[0m \u001b[38;5;28;01mfrom\u001b[39;00m \u001b[38;5;21;01m.\u001b[39;00m\u001b[38;5;21;01mmarkers\u001b[39;00m \u001b[38;5;28;01mimport\u001b[39;00m MarkerStyle\n",
      "\u001b[1;31mModuleNotFoundError\u001b[0m: No module named 'matplotlib.artist'"
     ]
    }
   ],
   "source": [
    "import numpy as np\n",
    "import pandas as pd\n",
    "import seaborn as sns\n",
    "import matplotlib.pyplot as plt\n",
    "%matplotlib inline\n",
    "\n",
    "import warnings\n",
    "warnings.filterwarnings('ignore')"
   ]
  },
  {
   "cell_type": "markdown",
   "metadata": {
    "id": "sH4syhtSrme9"
   },
   "source": [
    "Load Dataset"
   ]
  },
  {
   "cell_type": "code",
   "execution_count": null,
   "metadata": {
    "id": "PLtuqS8VkbLU"
   },
   "outputs": [],
   "source": [
    "data=pd.read_excel(r\"C:\\Users\\pvnav\\Downloads\\INX_Future_Inc_Employee_Performance_CDS_Project2_Data_V1.8.xls\")"
   ]
  },
  {
   "cell_type": "markdown",
   "metadata": {
    "id": "ytIgoVp1v8_S"
   },
   "source": [
    "BASIC CHECKS"
   ]
  },
  {
   "cell_type": "code",
   "execution_count": null,
   "metadata": {
    "colab": {
     "base_uri": "https://localhost:8080/",
     "height": 1000
    },
    "id": "zJP4kotokkT9",
    "outputId": "0d29a029-bf37-4b92-b6c5-ff519ff9b3e9"
   },
   "outputs": [],
   "source": [
    "pd.set_option('display.max_rows', None)\n",
    "pd.set_option('display.max_columns', None)\n",
    "data"
   ]
  },
  {
   "cell_type": "markdown",
   "metadata": {
    "id": "GkH64BaIs913"
   },
   "source": [
    "#### Domain Analysis\n",
    "\n",
    "**1.EmpNumber:**\n",
    "An Employee ID, sometimes referred to as an Employee Number or Employee Code, is a unique number that has been assigned to each individual staff member within a company.\n",
    "\n",
    "**2.Age:**\n",
    "Age of employee in years\n",
    "\n",
    "**3.Gender:**\n",
    "Gender of employee [Male/Feamale]\n",
    "\n",
    "**4.EducationBackground:**\n",
    "This will be a high school diploma or a post-secondary degree of a employee\n",
    "\n",
    "**5.MaritalStatus:**\n",
    "Civil status, or marital status, are the distinct options that describe a person's relationship with a significant other\n",
    "\n",
    "**6.EmpDepartment:**\n",
    "Department specifice of employee\n",
    "\n",
    "**7.EmpJobRole:**\n",
    "Job role means the key responsibility of a job profile or job position.\n",
    "\n",
    "**8.BusinessTravelFrequency:**\n",
    "The employee travel for comapny buisness purpose.\n",
    "\n",
    "**9.DistanceFromHome:**\n",
    "Distance between home to company of employee.\n",
    "\n",
    "**10.EmpEducationLevel:**\n",
    "Employee Education level means the academic qualification. For example, it could be a diploma, degree, masters or PhD.\n",
    "\n",
    "**11.EmpEnvironmentSatisfaction:**\n",
    "satisfied or content employees are with elements like their jobs, their employee experience, and the organizations they work for.\n",
    "\n",
    "**12.EmpHourlyRate:**\n",
    "Hourly Rate means the amount paid to an employee for each hour worked.\n",
    "\n",
    "**13.EmpJobInvolvement:**\n",
    "Job involvement refers to a state of psychological identification with work—or the degree to which a job is central to a person's identity. From an organizational perspective, it has been regarded as the key to unlocking employee motivation and increasing productivity.\n",
    "\n",
    "**14.EmpJobLevel:**\n",
    "Job levels, also known as job grades and classifications, set the responsibility level and expectations.\n",
    "\n",
    "**15.EmpJobSatisfaction:**\n",
    "level of contentment employees feel with their job.\n",
    "\n",
    "**16.NumCompaniesWorked:**\n",
    "employee work in how many companies.\n",
    "\n",
    "**17.OverTime:**\n",
    "employee work overtime or not. [Yes, No]\n",
    "\n",
    "**18.EmpLastSalaryHikePercent:**\n",
    "salary hike percent of employye in last year.\n",
    "\n",
    "**19.EmpRelationshipSatisfaction:**\n",
    "Healthy relationships may motivate employees and increase morale. When employees cast aside relationship issues, they can focus on work tasks more effectively.\n",
    "\n",
    "**20.TotalWorkExperienceInYears:**\n",
    "Total experiance of employee in years.\n",
    "\n",
    "**21.TrainingTimesLastYear:**\n",
    "Total training done by employee in last year.\n",
    "\n",
    "**22.EmpWorkLifeBalance:**\n",
    "“Work-life balance” typically means the achievement by employees of equality between time spent working and personal life. A good work-life balance for employees can improve staff motivation, increase staff retention rates, reduce absence, attract new talent, and reduce employee stress.\n",
    "\n",
    "**23.ExperienceYearsAtThisCompany:**\n",
    "Total no of eaxperiance at current company.\n",
    "\n",
    "**24.ExperienceYearsInCurrentRole:**\n",
    "Total no of experiance in current job role.\n",
    "\n",
    "**25.YearsSinceLastPromotion:**\n",
    "Total no of year since last promotion of employee.\n",
    "\n",
    "**26.YearsWithCurrManager:**\n",
    "Employee total no of years with current manager.\n",
    "\n",
    "**27.Attrition:**\n",
    "Employee attrition is the naturally occurring, voluntary departure of employees from a company. Employee attrition involves leaving a job for: Personal reasons. Professional motivation.\n",
    "\n",
    "**28.PerformanceRating:**\n",
    "This is a target feature, tell that the total rating of employee performance in company."
   ]
  },
  {
   "cell_type": "code",
   "execution_count": null,
   "metadata": {
    "colab": {
     "base_uri": "https://localhost:8080/",
     "height": 313
    },
    "id": "i38X7EqGkmJ4",
    "outputId": "61e3a9a6-b4da-4773-f841-4cb08726183a"
   },
   "outputs": [],
   "source": [
    "data.head()"
   ]
  },
  {
   "cell_type": "code",
   "execution_count": null,
   "metadata": {
    "colab": {
     "base_uri": "https://localhost:8080/",
     "height": 313
    },
    "id": "HTsyQqIYksoO",
    "outputId": "4b4cf450-44d2-4458-b120-3a368ddd6743"
   },
   "outputs": [],
   "source": [
    "data.tail()"
   ]
  },
  {
   "cell_type": "code",
   "execution_count": null,
   "metadata": {
    "colab": {
     "base_uri": "https://localhost:8080/"
    },
    "id": "kxGmknePktti",
    "outputId": "d069c21e-4def-4338-9da2-392cd64fee41"
   },
   "outputs": [],
   "source": [
    "data.shape"
   ]
  },
  {
   "cell_type": "markdown",
   "metadata": {
    "id": "HYrEz8kwwDZB"
   },
   "source": [
    "Dataset contain total 28 features with 1 unique feature and 1200 observation."
   ]
  },
  {
   "cell_type": "code",
   "execution_count": null,
   "metadata": {
    "colab": {
     "base_uri": "https://localhost:8080/"
    },
    "id": "bzCR5v-Jku8F",
    "outputId": "b8cecf18-c4c7-41e0-f85a-319d8a6def0e"
   },
   "outputs": [],
   "source": [
    "data.info()"
   ]
  },
  {
   "cell_type": "code",
   "execution_count": null,
   "metadata": {
    "colab": {
     "base_uri": "https://localhost:8080/"
    },
    "id": "Fc8Zd36bkx8W",
    "outputId": "858fe2ac-81b7-4f1b-bcf8-3fc4b0dbd4bf"
   },
   "outputs": [],
   "source": [
    "data.columns"
   ]
  },
  {
   "cell_type": "code",
   "execution_count": null,
   "metadata": {
    "colab": {
     "base_uri": "https://localhost:8080/",
     "height": 645
    },
    "id": "BYSxwfNdk4Oh",
    "outputId": "a7ce1adc-34ad-4796-9a03-49d9b5f2725b"
   },
   "outputs": [],
   "source": [
    "data.describe().T"
   ]
  },
  {
   "cell_type": "markdown",
   "metadata": {
    "id": "E57aSpIFwJLr"
   },
   "source": [
    "In numerical features no constant column is present."
   ]
  },
  {
   "cell_type": "code",
   "execution_count": null,
   "metadata": {
    "colab": {
     "base_uri": "https://localhost:8080/",
     "height": 332
    },
    "id": "g6N8Vqfxk6lc",
    "outputId": "fe012b34-47f2-46f6-b9db-5a0207b5a543"
   },
   "outputs": [],
   "source": [
    "data.describe(include = 'O').T"
   ]
  },
  {
   "cell_type": "markdown",
   "metadata": {
    "id": "uwSoyKfswN4K"
   },
   "source": [
    "In categorical data also no constant column is present."
   ]
  },
  {
   "cell_type": "code",
   "execution_count": null,
   "metadata": {
    "colab": {
     "base_uri": "https://localhost:8080/"
    },
    "id": "nPHinSjbwSWi",
    "outputId": "43748292-163e-4b3a-871e-b8e6db61ec47"
   },
   "outputs": [],
   "source": [
    "print('UNIQUE VALUES: \\n')\n",
    "for i in data.columns:\n",
    "    print(i,':', data[i].unique())"
   ]
  },
  {
   "cell_type": "markdown",
   "metadata": {
    "id": "qZlpYgKwlTRa"
   },
   "source": [
    "### **Data Types:**\n",
    "\n",
    "* The dataset contains a mix of numerical (int64) and categorical (object) variables.\n",
    "* Numerical variables include features like\n",
    "'Age,' 'DistanceFromHome,' 'EmpHourlyRate,' etc.\n",
    "* Categorical variables include 'EmpNumber,' 'Gender,' 'EducationBackground,' etc.\n",
    "\n",
    "\n",
    "### **Initial Data Exploration:**\n",
    "* The 'EmpDepartment' column suggests that employees belong to different departments.\n",
    "* 'Attrition' indicates whether an employee has left the company (Yes/No).\n",
    "* 'PerformanceRating' is the target variable, representing the performance rating of employees.\n",
    "\n",
    "\n",
    "### **Numerical Variables:**\n",
    "* The identified numerical variables include 'Age,' 'EmpEducationLevel,' 'EmpEnvironmentSatisfaction,' etc.\n",
    "* These variables likely play a role in determining employee performance.\n",
    "\n",
    "### **Categorical Variables:**\n",
    "* Categorical variables such as 'Gender,' 'EducationBackground,' 'MaritalStatus,' etc., may also influence employee performance.\n",
    "\n",
    "### **Target Variable:**\n",
    "* 'PerformanceRating' is the target variable, and understanding its distribution and factors affecting it will be crucial for the analysis."
   ]
  },
  {
   "cell_type": "markdown",
   "metadata": {
    "id": "t_x0MuU0NPZ0"
   },
   "source": [
    "## EDA (Exploratory Data Analysis)"
   ]
  },
  {
   "cell_type": "code",
   "execution_count": null,
   "metadata": {
    "colab": {
     "base_uri": "https://localhost:8080/"
    },
    "id": "dfm2_Unn1KYl",
    "outputId": "ed2ed080-316a-443b-b1cc-e4a7ed1b4f47"
   },
   "outputs": [],
   "source": [
    "data.isnull().sum()"
   ]
  },
  {
   "cell_type": "code",
   "execution_count": null,
   "metadata": {
    "colab": {
     "base_uri": "https://localhost:8080/"
    },
    "id": "vXRaZ2k82T4p",
    "outputId": "fc2c864b-607c-4aa5-e9bf-6718145f8636"
   },
   "outputs": [],
   "source": [
    "data.dtypes.value_counts()"
   ]
  },
  {
   "cell_type": "code",
   "execution_count": null,
   "metadata": {
    "colab": {
     "base_uri": "https://localhost:8080/"
    },
    "id": "uQ9E0iGM2lcS",
    "outputId": "f77ff1cc-74f1-4e1b-dce8-bd665f55d790"
   },
   "outputs": [],
   "source": [
    "data.select_dtypes('object').apply(pd.Series.nunique,axis=0)"
   ]
  },
  {
   "cell_type": "markdown",
   "metadata": {
    "id": "Hy316YdzldjZ"
   },
   "source": [
    "### UNIVARIATE"
   ]
  },
  {
   "cell_type": "code",
   "execution_count": null,
   "metadata": {
    "colab": {
     "base_uri": "https://localhost:8080/"
    },
    "id": "grI298UYlEea",
    "outputId": "55fd84de-3f62-4f1c-cbd6-17920dcc152a"
   },
   "outputs": [],
   "source": [
    "sns.countplot(x = data.PerformanceRating)"
   ]
  },
  {
   "cell_type": "markdown",
   "metadata": {
    "id": "rLy6O6sYlluV"
   },
   "source": [
    "Target Variable is not Balanced."
   ]
  },
  {
   "cell_type": "code",
   "execution_count": null,
   "metadata": {
    "colab": {
     "base_uri": "https://localhost:8080/"
    },
    "id": "8xlh2r2zlj7S",
    "outputId": "8d4aa70d-063a-4b6c-abdf-55a730b22e05"
   },
   "outputs": [],
   "source": [
    "data.PerformanceRating.value_counts()"
   ]
  },
  {
   "cell_type": "code",
   "execution_count": null,
   "metadata": {
    "colab": {
     "base_uri": "https://localhost:8080/",
     "height": 1000
    },
    "id": "6eCyN6HQlt_n",
    "outputId": "f40a4b12-4e9a-4202-fd43-c2c05cce688b"
   },
   "outputs": [],
   "source": [
    "plt.figure(figsize=(20,15))\n",
    "plotnumber=1\n",
    "for column in data.drop('PerformanceRating',axis=1):\n",
    "    if plotnumber<=22:\n",
    "        ax=plt.subplot(5,5,plotnumber)\n",
    "        sns.histplot(x=data[column],kde=True)\n",
    "        plt.xlabel(column,fontsize=10)\n",
    "        plt.ylabel(\"count\",fontsize=10)\n",
    "    plotnumber+=1\n",
    "plt.tight_layout()"
   ]
  },
  {
   "cell_type": "markdown",
   "metadata": {
    "id": "G-ncslSX2rVr"
   },
   "source": [
    "Sweetviz offers a convenient way to visualize and analyze individual columns or features in dataset.\n",
    "\n",
    "It generates detailed visualizations and statistics that help you gain insights into the distribution, summary statistics, and missing values of each feature.\n",
    "\n",
    "Sweetviz can quickly compare two datasets, such as a training dataset and a testing dataset, to ensure they have similar characteristics."
   ]
  },
  {
   "cell_type": "code",
   "execution_count": null,
   "metadata": {
    "colab": {
     "base_uri": "https://localhost:8080/"
    },
    "id": "9-sP2-drl04S",
    "outputId": "fa8fe946-d62a-4802-cdd5-281ce4cc39fe"
   },
   "outputs": [],
   "source": [
    "! pip install sweetviz"
   ]
  },
  {
   "cell_type": "code",
   "execution_count": null,
   "metadata": {
    "colab": {
     "base_uri": "https://localhost:8080/",
     "height": 86,
     "referenced_widgets": [
      "cf191212c8f44e7e91bd75cc868cc558",
      "4c16bd03e32842aeb259ee673cadba56",
      "97f164fb01b7483b9ef60a61f63fb94e",
      "95b0c128f7264d5e82ef3462b9eb6812",
      "a8196e4495d84480b55553b05c517a45",
      "9c2f96d0b5cb4d25a56e789fbc191c37",
      "f01ad5664c3544f4abde7391efcb98c3",
      "c94639e9c25842678c43fe7660a9a74a",
      "7312269465854ab3bd6ecf9302d732ab",
      "7770169814d94141bad77b5f7b68de1a",
      "252dbfb7a0714115a8f91ac121c3b823"
     ]
    },
    "id": "6Ea8-ZxknYO_",
    "outputId": "37d6a4e7-be89-4e0f-f0c0-ea337932c7a1"
   },
   "outputs": [],
   "source": [
    "import sweetviz as sv\n",
    "my_report = sv.analyze(data)\n",
    "my_report.show_html('SweetViz.html')"
   ]
  },
  {
   "cell_type": "markdown",
   "metadata": {
    "id": "Qu20qI-VmC-7"
   },
   "source": [
    "## DATA INSIGHTS:\n",
    "\n",
    "* AGE : Employee between the age group 30-43 are the majority.\n",
    "* Gender count: 60% male 40% female.\n",
    "* Educational Background : Majority(41%) of the people are from life science field, 32% are from medical field,11% are from Marketing, 8% Technical Degree, 6% are other and 2% are from Human Resources.\n",
    "* Marital Status: 46% of the people are married, 32% single and the rest are divorced.\n",
    "* EmpDepartment: About employee belongs to Sales, 30% belongs to Development, 29% belongs to R & D and rest belongs to HR,Finance Data Science.\n",
    "* EmpJobRole: Sales Excutive and Developers are the Majority employees in the company.\n",
    "* BusinessTravelFrequency: 70% of the people travel raraely, 20% travel frequently, rest do not travel.\n",
    "* DistanceFromHome: Almost 35% of the people are nearer to the office.\n",
    "* EmpEducationLevel: More than 37% of the people have educational of Level 3 27% are\n",
    "of level 4,20% are of level 2.\n",
    "* EmpEnvironmentalSatisfaction:  60% of the people are almost satisfied with environment condition of the office with more than 3 and 4 ratings.\n",
    "* EmpHourlyRate: About 10% to 12% of the employees willing to work about 70 to 100 hourly Rate.\n",
    "* EmpJobInvolvement: Almost 60% of the people have partial involvement in job and 9% have good involvement.\n",
    "* EmpJobSatisfaction: More than 60% employees seem to be satisfied with their job.\n",
    "* NumCompaniesWorked: 13% of the people have worked for less than 1 company which implies they are freshers and 35% of people worked are atmost of 1 company and remaining employee work 2 and more companies.\n",
    "* OverTime: 70% of the employee not willing to work overtime, Remaining are willing to work overtime.\n",
    "* EmpRelationshipSatisfaction: Majority of the Employee are very much satisfied on their relationship of 60% employee are satisfied.\n",
    "* TotalWorkExperianceYears: 50% of the employee have worked experience less than 10 year\n",
    "* EmpWorkLifeBalance: 60%  of the employee are good with their WorkLife Balance.\n",
    "* ExperianceYearsAtThisCompany: Majority of employee are worked less than 10 years in this company.\n",
    "* YearsSinceLastPromotion: Most Employee are getting promoted within 3 to 4 years since their last promotion.\n",
    "* Attrition: 85% of employee said no to Attrition(Job Leaving)\n",
    "* PerformanceRating: 70% of Majority of the employee have average Rating of 3 in their  Performance."
   ]
  },
  {
   "cell_type": "markdown",
   "metadata": {
    "id": "JpmmUelfmVsm"
   },
   "source": [
    "## BIVARIATE"
   ]
  },
  {
   "cell_type": "code",
   "execution_count": null,
   "metadata": {
    "colab": {
     "base_uri": "https://localhost:8080/"
    },
    "id": "45S1aH1GmlPT",
    "outputId": "41e75ce0-7623-4112-c077-64c01e15c3af"
   },
   "outputs": [],
   "source": [
    "! pip install AutoViz"
   ]
  },
  {
   "cell_type": "code",
   "execution_count": null,
   "metadata": {
    "colab": {
     "base_uri": "https://localhost:8080/"
    },
    "id": "UUbrw93DnGRV",
    "outputId": "6bd320de-36c6-4f3d-84bc-ca3f6649dea2"
   },
   "outputs": [],
   "source": [
    "from autoviz.AutoViz_Class import AutoViz_Class\n",
    "AV=AutoViz_Class()\n",
    "data=AV.AutoViz(filename=\"INX_Future_Inc_Employee_Performance_CDS_Project2_Data_V1.8.xlsx\",verbose=2,chart_format='html')"
   ]
  },
  {
   "cell_type": "markdown",
   "metadata": {
    "id": "n9C9k8Stmv_v"
   },
   "source": [
    "### INSIGHTS:\n",
    "\n",
    "* If the age in between 18 to 25 then the total year of experiance is less than 5year. If the age is increases that time experiance also increases.\n",
    "* If he experiance year at this company that time total work experiance also increases.\n",
    "* If the employee has work 1 or 2 company that time employee last salary hike percent is increases.\n",
    "* Year since last promotion is increases that time employee has more experiance with current role\n",
    "* Most of the employee hourly rate with their current manager is constant,but some of the employees has maximum hourly rate with less no of year with current manager.\n",
    "* If the distance from home is more then the employee salary hike is slightly increases. Distance from home between 10 to 13 that time employee salary hike is decreases.\n"
   ]
  },
  {
   "cell_type": "code",
   "execution_count": null,
   "metadata": {
    "colab": {
     "base_uri": "https://localhost:8080/"
    },
    "id": "XyBcGq4Ky6HN",
    "outputId": "95b56ffc-2cfa-4943-f7ea-17b8f00f8f70"
   },
   "outputs": [],
   "source": [
    "categorical_columns = []\n",
    "for column in data:\n",
    "    if data[column].dtype == object:\n",
    "        categorical_columns.append(column)\n",
    "        unique_values = data[column].unique()\n",
    "        print(f\"{column} : {unique_values}\")\n",
    "        print(\"====================================\")"
   ]
  },
  {
   "cell_type": "code",
   "execution_count": null,
   "metadata": {
    "colab": {
     "base_uri": "https://localhost:8080/",
     "height": 824
    },
    "id": "OaGkSLyKzCn4",
    "outputId": "50c72c88-6f38-4fe4-c961-b1ffb38bb8f5"
   },
   "outputs": [],
   "source": [
    "categorical_col = data[['Gender','EducationBackground','MaritalStatus','BusinessTravelFrequency','OverTime','Attrition']]\n",
    "plt.figure(figsize=(20,22))\n",
    "plotno = 1\n",
    "\n",
    "for column in categorical_col:\n",
    "    if plotno<=7:\n",
    "        plt.subplot(3,2,plotno)\n",
    "        sns.countplot(x=categorical_col[column],hue=data.PerformanceRating)\n",
    "        plt.xlabel(column,fontsize=20)\n",
    "        plt.ylabel('PerformanceRating')\n",
    "    plotno+=1\n",
    "plt.tight_layout()\n",
    "plt.show()"
   ]
  },
  {
   "cell_type": "markdown",
   "metadata": {
    "id": "G9sxs8ybzOAi"
   },
   "source": [
    "Observations:\n",
    "\n",
    "Relationship between Gender and performance rating\n",
    "* Maximum no of male rated with 3 performance rating as well as in female also most of the feamle rated with 3 performance rating.\n",
    "* four performance rating in both male & female is less\n",
    "\n",
    "Relationship between EducationBackground and performance rating\n",
    "* Maximum life sciences and medical education background employee rated with 3 performance rating\n",
    "* life science and medical education background employee also rated with 2 & 4 performance rating most of the time\n",
    "\n",
    "Relationship between MaritalStatus and performance rating\n",
    "* Most of the married employee rated with 3 performance rating as well as single and divorced marital status employee rated with 3 performance rating most of the time.\n",
    "* In married marital status 2 performance rating emplyee is more than single or divorced.\n",
    "\n",
    "Relationship between Business Travel Frequency and performance rating\n",
    "* Maximum no of travel rarely employee has get 3 performance rating\n",
    "* Those employee travel frequentaly this employee also rated with 2, 3, and 4\n",
    "\n",
    "Relationship between Overtime and performance rating\n",
    "* Maximum no of employee with no overtime has rated with 3 perfomance rating\n",
    "* Those employee doing overtime that time 2 & 4 performance rating is constant.\n",
    "\n",
    "Relationship between Attrition and performance rating\n",
    "* Most of the employee rated with 3 performance rating in no means(They are not leave the company)\n",
    "* Those employee have 3 performace rating those also leave the company"
   ]
  },
  {
   "cell_type": "code",
   "execution_count": null,
   "metadata": {
    "id": "DHs2x-0EzpqT"
   },
   "outputs": [],
   "source": [
    "plt.figure(figsize=(20, 10))\n",
    "sns.countplot(x='EmpDepartment', hue='PerformanceRating', data=data)\n",
    "plt.xlabel('EmpDepartment', fontsize=20)\n",
    "plt.ylabel('PerformanceRating', fontsize=15)\n",
    "plt.show()"
   ]
  },
  {
   "cell_type": "markdown",
   "metadata": {
    "id": "y4oQxwG-zwNn"
   },
   "source": [
    "Observation:\n",
    "\n",
    "* Most of the Development, Sales, And Research and development employee department has 3 peformance rating\n",
    "* Data science department employee has low performance rating.\n",
    "* In sales & Research and development department also 2 performance rating employee avilable most of the time."
   ]
  },
  {
   "cell_type": "code",
   "execution_count": null,
   "metadata": {
    "id": "ZJ8tYmdVz7rF"
   },
   "outputs": [],
   "source": [
    "plt.figure(figsize=(20,10))\n",
    "sns.countplot(x = 'EmpJobRole',hue='PerformanceRating',data=data)\n",
    "plt.xticks(rotation='vertical')\n",
    "plt.xlabel('EmpJobRole',fontsize=20)\n",
    "plt.ylabel('PerformanceRating',fontsize=15)\n",
    "plt.show()"
   ]
  },
  {
   "cell_type": "markdown",
   "metadata": {
    "id": "zOYVpMuj0Jv8"
   },
   "source": [
    "Observation:\n",
    "\n",
    "* Developers and sales executive job role employee performance rating is 3 most of the time.\n",
    "* In technical architecture and delivery manger job role employee not rated with 2 & 4 performance rating.\n",
    "* In sales excutive alsso less than 60 employee rated with 2 performance rating.\n",
    "* Remaining all job role employee has 3 performance rating most of the time."
   ]
  },
  {
   "cell_type": "code",
   "execution_count": null,
   "metadata": {
    "id": "7wrfYPOu0h9Q"
   },
   "outputs": [],
   "source": [
    "numerical_col = []\n",
    "for column in data.columns:\n",
    "    if data[column].dtype == \"int64\":\n",
    "        data[column].unique()\n",
    "        numerical_col.append(column)"
   ]
  },
  {
   "cell_type": "code",
   "execution_count": null,
   "metadata": {
    "colab": {
     "base_uri": "https://localhost:8080/",
     "height": 824
    },
    "id": "555jimM50kB-",
    "outputId": "1b8b78a7-791e-40f1-f5eb-b71f10d6d7ee"
   },
   "outputs": [],
   "source": [
    "numerical = data[['EmpEducationLevel','EmpEnvironmentSatisfaction','EmpJobInvolvement','EmpJobLevel','EmpJobSatisfaction',\n",
    "                 'EmpWorkLifeBalance']]\n",
    "\n",
    "plt.figure(figsize=(20,22))\n",
    "plotno = 1\n",
    "\n",
    "for column in numerical:\n",
    "    if plotno<=7:\n",
    "        plt.subplot(3,2,plotno)\n",
    "        sns.countplot(x=numerical[column],hue=data.PerformanceRating)\n",
    "        plt.xlabel(column,fontsize=20)\n",
    "        plt.ylabel('PerformanceRating')\n",
    "    plotno+=1\n",
    "plt.tight_layout()\n",
    "plt.show()"
   ]
  },
  {
   "cell_type": "markdown",
   "metadata": {
    "id": "o6WndVdD0vKI"
   },
   "source": [
    "Observations:\n",
    "Relationship between EmpEducationLevel and performance rating\n",
    "* Those employee education level is [3,4 & 2] this employee have 3 peformance rating mostly\n",
    "* If the performance rating is 2 & 4 then all eduaction level employee is less than 60.\n",
    "Relationship between EmpEnvironmentSatisfaction and performance rating\n",
    "* Maximum no of employee enviorment statifaction is 3 and 4 with 3 performance rating.\n",
    "* If the employee enviorment satisfaction is 1 & 2 that time the maximum employee have 2 performace rating.\n",
    "* If the employee enviorment satisfaction is increases that time 4 performance rating also increases.\n",
    "Relationship between EmpJobInvolvement and performance rating\n",
    "* Those employee job involvement is 2 & 3 this empluee have 3 performance rating mostly\n",
    "2 & 4 performance rating eployee is less in all job involvment.\n",
    "Relationship between EmpJobLevel and performance rating\n",
    "* If the employee job level is 1,2 & 3 that time most of the employee have 3 performance rating\n",
    "* In all job levels 2 & 4 performance rating of all emplyee is less than 60.\n",
    "Relationship between EmpJobSatisfaction and performance rating\n",
    "* Maximum 4 & 3 job satisfaction employee get 3 performance rating most of the time.\n",
    "* In all job satisfaction 2 & 4 performance rating is less than 55 employee\n",
    "Relationship between EmpWorkLifeBalance and performance rating\n",
    "* If the employee work life balance is 3 that time maximum no of employee have 3 performance rating.\n",
    "* If the work life balance is 1 that time no one get 4 performance rating."
   ]
  },
  {
   "cell_type": "markdown",
   "metadata": {
    "id": "EW03km0QuqjP"
   },
   "source": [
    "### MULTIVARIATE\n"
   ]
  },
  {
   "cell_type": "code",
   "execution_count": null,
   "metadata": {
    "colab": {
     "base_uri": "https://localhost:8080/",
     "height": 399
    },
    "id": "s7Y6gqAb1Q06",
    "outputId": "822177e0-f61d-4f7c-a5d0-ee127531ffb9"
   },
   "outputs": [],
   "source": [
    "plt.figure(figsize=(20,10))\n",
    "sns.lineplot(x='Age',y='TotalWorkExperienceInYears',hue=data.PerformanceRating,data=data)\n",
    "plt.xlabel('Age',fontsize=20)\n",
    "plt.ylabel('TotalWorkExperienceInYears',fontsize=15)\n",
    "plt.show()"
   ]
  },
  {
   "cell_type": "markdown",
   "metadata": {
    "id": "4HaFQpSW1T2Y"
   },
   "source": [
    "Observation:\n",
    "\n",
    "* If the age & total experiance is increases that time most of the employee performance rating is 4.\n",
    "* Low age and minimum year experiance employee also 4 perfomace rating.\n",
    "* At the age of 50 and 30 years of experiance employee have 2 performance rating."
   ]
  },
  {
   "cell_type": "code",
   "execution_count": null,
   "metadata": {
    "colab": {
     "base_uri": "https://localhost:8080/",
     "height": 398
    },
    "id": "o3vO6VnK1XiU",
    "outputId": "0b4e58cb-a8fd-4c1a-dd3e-035b53170642"
   },
   "outputs": [],
   "source": [
    "plt.figure(figsize=(20,10))\n",
    "sns.barplot(x='Gender',y='NumCompaniesWorked',hue=data.PerformanceRating,data=data)\n",
    "plt.xlabel('Gender',fontsize=20)\n",
    "plt.ylabel('NumCompaniesWorked',fontsize=15)\n",
    "plt.show()"
   ]
  },
  {
   "cell_type": "markdown",
   "metadata": {
    "id": "U5gXfv5f1ZII"
   },
   "source": [
    "Observation:\n",
    "\n",
    "* If the gender is male and no of companies work is increses that time most of the performance rating is 2 & 4.\n",
    "* If female work in less no companies that time performance rating is 2.\n",
    "* 3 & 4 performance rating in female increase if the no of compaines worked is increses."
   ]
  },
  {
   "cell_type": "code",
   "execution_count": null,
   "metadata": {
    "colab": {
     "base_uri": "https://localhost:8080/",
     "height": 399
    },
    "id": "8MKW98r91eIM",
    "outputId": "93a758f2-0f15-47d4-c785-5e0d3b67cdc5"
   },
   "outputs": [],
   "source": [
    "plt.figure(figsize=(20,10))\n",
    "sns.barplot(x='MaritalStatus',y='EmpLastSalaryHikePercent',hue=data.PerformanceRating,data=data)\n",
    "plt.xlabel('MaritalStatus',fontsize=20)\n",
    "plt.ylabel('EmpLastSalaryHikePercent',fontsize=15)\n",
    "plt.show()"
   ]
  },
  {
   "cell_type": "markdown",
   "metadata": {
    "id": "ZBhv34nD1ewf"
   },
   "source": [
    "Observatopn:\n",
    "\n",
    "* In all marital status with maximum salary hike percent in last year is increases that time performance rating is 4.\n",
    "* If salary hike percentage in last year is less than 15 that time performance rating is 2 & 3 in all marital status."
   ]
  },
  {
   "cell_type": "code",
   "execution_count": null,
   "metadata": {
    "colab": {
     "base_uri": "https://localhost:8080/",
     "height": 398
    },
    "id": "BbvUjPas1iYd",
    "outputId": "ac393cb6-668e-4056-aa26-495e9a125a97"
   },
   "outputs": [],
   "source": [
    "plt.figure(figsize=(20,10))\n",
    "sns.barplot(x='BusinessTravelFrequency',y='EmpEnvironmentSatisfaction',hue=data.PerformanceRating,data=data)\n",
    "plt.xlabel('BusinessTravelFrequency',fontsize=20)\n",
    "plt.ylabel('EmpEnvironmentSatisfaction',fontsize=15)\n",
    "plt.show()"
   ]
  },
  {
   "cell_type": "markdown",
   "metadata": {
    "id": "kj1k1SkN1kH_"
   },
   "source": [
    "Observation:\n",
    "\n",
    "* If the employee enviorment satisfaction is high that time performance rating is 3 & 4 in all buisness travel frequency.\n",
    "* Low employee enviorment satisfaction has 2 performance rating in all buisness travel frequency."
   ]
  },
  {
   "cell_type": "code",
   "execution_count": null,
   "metadata": {
    "colab": {
     "base_uri": "https://localhost:8080/",
     "height": 400
    },
    "id": "QzoHBHf81qiw",
    "outputId": "8287e1cc-8cb3-465c-8de2-918ce907d392"
   },
   "outputs": [],
   "source": [
    "plt.figure(figsize=(20,10))\n",
    "sns.barplot(x='Attrition',y='YearsWithCurrManager',hue=data.PerformanceRating,data=data)\n",
    "plt.xlabel('Attrition',fontsize=20)\n",
    "plt.ylabel('YearsWithCurrManager',fontsize=15)\n",
    "plt.show()"
   ]
  },
  {
   "cell_type": "markdown",
   "metadata": {
    "id": "AoU3EiEz1r7w"
   },
   "source": [
    "Observation:\n",
    "\n",
    "* If the employee current manager year is increses that time performance rating is 2 and 50-50% chances of employee to leave the company.\n",
    "* Those employee perfomance rating is 4 and current manger year is increases that time most of the employee not leave the company."
   ]
  },
  {
   "cell_type": "code",
   "execution_count": null,
   "metadata": {
    "colab": {
     "base_uri": "https://localhost:8080/",
     "height": 399
    },
    "id": "JyzNsuNa153J",
    "outputId": "c230f307-075a-480b-fed7-9992ad6a5285"
   },
   "outputs": [],
   "source": [
    "plt.figure(figsize=(20,10))\n",
    "sns.barplot(x='EducationBackground',y='ExperienceYearsInCurrentRole',hue=data.PerformanceRating,data=data)\n",
    "plt.xlabel('EducationBackground',fontsize=20)\n",
    "plt.ylabel('ExperienceYearsInCurrentRole',fontsize=15)\n",
    "plt.show()"
   ]
  },
  {
   "cell_type": "markdown",
   "metadata": {
    "id": "_U1KSjCd17oo"
   },
   "source": [
    "Observation:\n",
    "\n",
    "* If the current role experiance is increses of marketing education background employee has 4 performance rating most of the time\n",
    "* In all education background with current role experiance is more than 5 then the performance rating of employee is 2.\n",
    "* Life scineces, Medical, others , and technical degree education background employee has less than 4 year of experiance in current role that time performance rating is 3 & 4."
   ]
  },
  {
   "cell_type": "code",
   "execution_count": null,
   "metadata": {
    "colab": {
     "base_uri": "https://localhost:8080/",
     "height": 399
    },
    "id": "fP4dUWi31_4x",
    "outputId": "080b6f68-7c32-433d-e1ab-79b14475e69b"
   },
   "outputs": [],
   "source": [
    "plt.figure(figsize=(20,10))\n",
    "sns.barplot(x='OverTime',y='DistanceFromHome',hue=data.PerformanceRating,data=data)\n",
    "plt.xlabel('OverTime',fontsize=20)\n",
    "plt.ylabel('DistanceFromHome',fontsize=15)\n",
    "plt.show()"
   ]
  },
  {
   "cell_type": "markdown",
   "metadata": {
    "id": "x8_CExxG2Bqr"
   },
   "source": [
    "Observation:\n",
    "\n",
    "* If the distance from home is increses that time performance rating is constant with employee doing overtime as well as not doing overtime."
   ]
  },
  {
   "cell_type": "code",
   "execution_count": null,
   "metadata": {
    "colab": {
     "base_uri": "https://localhost:8080/",
     "height": 400
    },
    "id": "D2I_guqF2E8v",
    "outputId": "f7924f12-f531-42de-9fd7-46fa603b538d"
   },
   "outputs": [],
   "source": [
    "plt.figure(figsize=(20,10))\n",
    "sns.barplot(x='EmpDepartment',y='TrainingTimesLastYear',hue=data.PerformanceRating,data=data)\n",
    "plt.xlabel('EmpDepartment',fontsize=20)\n",
    "plt.ylabel('TrainingTimesLastYear',fontsize=15)\n",
    "plt.show()"
   ]
  },
  {
   "cell_type": "markdown",
   "metadata": {
    "id": "_fa6N46L2Gp9"
   },
   "source": [
    "Observation:\n",
    "\n",
    "* If the employee from data science department and most training time in last year then the performance rating is 2 maximum time.\n",
    "* Other all employee department with less than 3 time training in last year then the peroformance rating is constant."
   ]
  },
  {
   "cell_type": "code",
   "execution_count": null,
   "metadata": {
    "colab": {
     "base_uri": "https://localhost:8080/",
     "height": 400
    },
    "id": "jALAey2W2KBn",
    "outputId": "5d08d8aa-60d7-4957-9834-a3cb1bb91260"
   },
   "outputs": [],
   "source": [
    "plt.figure(figsize=(20,10))\n",
    "sns.barplot(x='Attrition',y='NumCompaniesWorked',hue=data.PerformanceRating,data=data)\n",
    "plt.xlabel('Attrition',fontsize=20)\n",
    "plt.ylabel('NumCompaniesWorked',fontsize=15)\n",
    "plt.show()"
   ]
  },
  {
   "cell_type": "markdown",
   "metadata": {
    "id": "w-LKSdRc2L0v"
   },
   "source": [
    "Observation:\n",
    "\n",
    "* If emplyee number of companies worked is increses that time most of the employee leave the company and their performance rating is 2\n",
    "* Those employee have work in less no of companies they are not leave the company and their performance rating is constant."
   ]
  },
  {
   "cell_type": "markdown",
   "metadata": {
    "id": "oaTNBSbjNje9"
   },
   "source": [
    "## CHECKING THE DISTRIBUTION OF CONTINUOUS FEATURE\n",
    "\n",
    "* Those feature continuous in nature only use this feature to plot a distribution"
   ]
  },
  {
   "cell_type": "code",
   "execution_count": null,
   "metadata": {
    "colab": {
     "base_uri": "https://localhost:8080/",
     "height": 565
    },
    "id": "SOjpv1EgNnyc",
    "outputId": "32f9d833-567b-4011-a322-07fe35f59191"
   },
   "outputs": [],
   "source": [
    "continuous = data[['DistanceFromHome','EmpHourlyRate','EmpLastSalaryHikePercent','TotalWorkExperienceInYears',\n",
    "                   'ExperienceYearsAtThisCompany','ExperienceYearsInCurrentRole','YearsSinceLastPromotion','YearsWithCurrManager']]\n",
    "\n",
    "plt.figure(figsize=(20,15))\n",
    "plotno = 1\n",
    "\n",
    "for column in continuous:\n",
    "    if plotno<=8:\n",
    "        plt.subplot(3,3,plotno)\n",
    "        sns.distplot(x=continuous[column])\n",
    "        plt.xlabel(column,fontsize=20)\n",
    "    plotno+=1\n",
    "plt.tight_layout()\n",
    "plt.show()"
   ]
  },
  {
   "cell_type": "markdown",
   "metadata": {
    "id": "kWRfNZT1N1LO"
   },
   "source": [
    "### CHECK SKEWNESS"
   ]
  },
  {
   "cell_type": "code",
   "execution_count": null,
   "metadata": {
    "colab": {
     "base_uri": "https://localhost:8080/"
    },
    "id": "i9kfs_HFN5Mq",
    "outputId": "0280b121-0d91-4e68-da4c-5c9490fe63e7"
   },
   "outputs": [],
   "source": [
    "print('1.Distance From Home Feature Skewness:',data.DistanceFromHome.skew())\n",
    "print('2.Employee Hourly Rate Feature Skewness:',data.EmpHourlyRate.skew())\n",
    "print('3.Employee Last Salary Hike Percent Feature Skewness:',data.EmpLastSalaryHikePercent.skew())\n",
    "print('4.Total Work Experiance In Year Feature Skewness:',data.TotalWorkExperienceInYears.skew())\n",
    "print('5.Experiance Year At This Company Feature Skewness:',data.ExperienceYearsAtThisCompany.skew())\n",
    "print('6.Experiance Year In Current Role Feature Skewness:',data.ExperienceYearsInCurrentRole.skew())\n",
    "print('7.Year Since Last Promotion Feature Skewness:',data.YearsSinceLastPromotion.skew())\n",
    "print('8.Years With Current Manager Feature Skewness:',data.YearsWithCurrManager.skew())"
   ]
  },
  {
   "cell_type": "markdown",
   "metadata": {
    "id": "_gAMRINhN6Sg"
   },
   "source": [
    "From above all Feature skewness only one feature Year Since Last Promotion have skew so we need to do feature transformation in data preprocessing"
   ]
  },
  {
   "cell_type": "markdown",
   "metadata": {
    "id": "lhnjNKrEN9uO"
   },
   "source": [
    "##CHECK THE KURTOSIS"
   ]
  },
  {
   "cell_type": "code",
   "execution_count": null,
   "metadata": {
    "colab": {
     "base_uri": "https://localhost:8080/"
    },
    "id": "H8oqAd0vN9U9",
    "outputId": "29ae7c30-778b-4e11-f71a-83821f238e39"
   },
   "outputs": [],
   "source": [
    "print('1.Distance From Home Feature kurtosis:',data.DistanceFromHome.kurtosis())\n",
    "print('2.Employee Hourly Rate Feature kurtosis:',data.EmpHourlyRate.kurtosis())\n",
    "print('3.Employee Last Salary Hike Percent Feature kurtosis:',data.EmpLastSalaryHikePercent.kurtosis())\n",
    "print('4.Total Work Experiance In Year Feature kurtosis:',data.TotalWorkExperienceInYears.kurtosis())\n",
    "print('5.Experiance Year At This Company Feature kurtosis:',data.ExperienceYearsAtThisCompany.kurtosis())\n",
    "print('6.Experiance Year In Current Role Feature kurtosis:',data.ExperienceYearsInCurrentRole.kurtosis())\n",
    "print('7.Year Since Last Promotion Feature kurtosis:',data.YearsSinceLastPromotion.kurtosis())\n",
    "print('8.Years With Current Manager Feature kurtosis:',data.YearsWithCurrManager.kurtosis())"
   ]
  },
  {
   "cell_type": "markdown",
   "metadata": {
    "id": "kmogSENVOD2y"
   },
   "source": [
    "From above all Feature kurtosis only high in two features experiance year at this company & Year Since Last Promotion have kutosis so we need to do feature transformation in data preprocessing"
   ]
  },
  {
   "cell_type": "code",
   "execution_count": null,
   "metadata": {
    "colab": {
     "base_uri": "https://localhost:8080/",
     "height": 410
    },
    "id": "M5kPiZ-Knf24",
    "outputId": "3b77973f-9c27-4424-fae6-725eb1ac5be1"
   },
   "outputs": [],
   "source": [
    "plt.figure(figsize=(20,10),facecolor='white')\n",
    "ax = sns.countplot(x='EmpDepartment',hue=data.PerformanceRating,data=data)\n",
    "plt.title('Employee Departments vs PerformanceRating',fontsize=20)\n",
    "plt.xlabel('EmpDepartment',fontsize=20)\n",
    "plt.ylabel('PerformanceRating',fontsize=15)\n",
    "plt.show()"
   ]
  },
  {
   "cell_type": "code",
   "execution_count": null,
   "metadata": {
    "colab": {
     "base_uri": "https://localhost:8080/",
     "height": 867
    },
    "id": "PQZRmCD3ppho",
    "outputId": "4fdb6b37-5376-45f5-ce65-33506448e2e3"
   },
   "outputs": [],
   "source": [
    "plt.figure(figsize=(20,10))\n",
    "sns.histplot(data=data,x='EmpDepartment',kde=True,hue='EmpDepartment')\n",
    "plt.show()"
   ]
  },
  {
   "cell_type": "markdown",
   "metadata": {
    "id": "xYpXQgITsouy"
   },
   "source": [
    "Observation:\n",
    "\n",
    "From the above graph we can conclude that from the EmpDepartment Development department is showing High performance rating\n",
    "\n",
    "**Sales:** The Performace rating level 3 is more in the sales department. The male performance rating the little bit higher compared to female.\n",
    "\n",
    "**Human Resources:** The majority of the employees lying under the level 3 performance . The older people are performing low in this department. The female employees in HR department doing really well in their performance.\n",
    "\n",
    "**Development:** The maximum number of employees are level 3 performers. Employees of all age are performing at the level of 3 only. The gender-based performance is nearly same for both.\n",
    "\n",
    "**Data Science:** The highest average of level 3 performance is in data science department. Data science is the only department where less number of level 2 performers. The overall performance is higher compared to all departments. Male employees are doing good in this department.\n",
    "\n",
    "**Research & Development:** The age factor is not deviating from the level of performance here where different employees with different age are there in every level of performance. The R&D has the good female employees in their performance.\n",
    "\n",
    "**Finance:** The finance department performance is exponentially decreasing when age increases. The male employees are doing good. The experience factor is inversely relating to the performance level."
   ]
  },
  {
   "cell_type": "markdown",
   "metadata": {
    "id": "5tnBaNuaDOLH"
   },
   "source": [
    "### DATA PRE-PROCESSING & FEATURE SELECTION"
   ]
  },
  {
   "cell_type": "code",
   "execution_count": null,
   "metadata": {
    "id": "ZyXvW4TBK2Q1"
   },
   "outputs": [],
   "source": [
    "df = data.copy()"
   ]
  },
  {
   "cell_type": "markdown",
   "metadata": {
    "id": "JENQ_rTmD8UA"
   },
   "source": [
    "## CONVERT CATEGORICAL TO NUMERICAL"
   ]
  },
  {
   "cell_type": "code",
   "execution_count": null,
   "metadata": {
    "id": "KpYgkvmqDf9w"
   },
   "outputs": [],
   "source": [
    "cat = df.select_dtypes('O')"
   ]
  },
  {
   "cell_type": "code",
   "execution_count": null,
   "metadata": {
    "colab": {
     "base_uri": "https://localhost:8080/"
    },
    "id": "yqohCPkSEMGd",
    "outputId": "7c54005d-171e-4b12-df88-80739cc1bfe5"
   },
   "outputs": [],
   "source": [
    "cat.columns # Categorical Features"
   ]
  },
  {
   "cell_type": "markdown",
   "metadata": {
    "id": "SxRs5o_iJDoY"
   },
   "source": [
    "### 1.Gender:"
   ]
  },
  {
   "cell_type": "code",
   "execution_count": null,
   "metadata": {
    "colab": {
     "base_uri": "https://localhost:8080/"
    },
    "id": "vjjeBtsWIsI6",
    "outputId": "4604b2aa-c746-41e1-ce9f-324294a946b7"
   },
   "outputs": [],
   "source": [
    "df.Gender.value_counts()"
   ]
  },
  {
   "cell_type": "code",
   "execution_count": null,
   "metadata": {
    "id": "jiom2mY1IzHR"
   },
   "outputs": [],
   "source": [
    "df.Gender = df.Gender.map({'Male':1,'Female':0})"
   ]
  },
  {
   "cell_type": "markdown",
   "metadata": {
    "id": "CCE5DfNcI7He"
   },
   "source": [
    "Map male with 1 and female with 0"
   ]
  },
  {
   "cell_type": "markdown",
   "metadata": {
    "id": "AWnCEmVyJETc"
   },
   "source": [
    "### 2.Education Background"
   ]
  },
  {
   "cell_type": "code",
   "execution_count": null,
   "metadata": {
    "colab": {
     "base_uri": "https://localhost:8080/"
    },
    "id": "1zS6JV30I43Q",
    "outputId": "83f1f4e0-eb42-4021-b74c-b013c2e50d28"
   },
   "outputs": [],
   "source": [
    "df.EducationBackground.value_counts()"
   ]
  },
  {
   "cell_type": "code",
   "execution_count": null,
   "metadata": {
    "id": "h3RWhiJEI9R7"
   },
   "outputs": [],
   "source": [
    "df.loc[df['EducationBackground']=='Life Sciences','EducationBackground']=5\n",
    "df.loc[df['EducationBackground']=='Medical','EducationBackground']=4\n",
    "df.loc[df['EducationBackground']=='Marketing','EducationBackground']=3\n",
    "df.loc[df['EducationBackground']=='Technical Degree','EducationBackground']=2\n",
    "df.loc[df['EducationBackground']=='Other','EducationBackground']=1\n",
    "df.loc[df['EducationBackground']=='Human Resources','EducationBackground']=0"
   ]
  },
  {
   "cell_type": "code",
   "execution_count": null,
   "metadata": {
    "colab": {
     "base_uri": "https://localhost:8080/"
    },
    "id": "nZtRQFP-I-xH",
    "outputId": "cd1a660b-08b1-4a6a-c9f1-75585d3becf8"
   },
   "outputs": [],
   "source": [
    "df.EducationBackground.value_counts()"
   ]
  },
  {
   "cell_type": "markdown",
   "metadata": {
    "id": "VOqnr1sXJKQk"
   },
   "source": [
    "### 3.Marital Status"
   ]
  },
  {
   "cell_type": "code",
   "execution_count": null,
   "metadata": {
    "colab": {
     "base_uri": "https://localhost:8080/"
    },
    "id": "vqMlToYOI_7H",
    "outputId": "305b6aa7-9fb7-4ffe-ab16-8a5e7867eef1"
   },
   "outputs": [],
   "source": [
    "df.MaritalStatus.value_counts()"
   ]
  },
  {
   "cell_type": "code",
   "execution_count": null,
   "metadata": {
    "id": "vy_Qp4qbJNTj"
   },
   "outputs": [],
   "source": [
    "\n",
    "df.MaritalStatus = df.MaritalStatus.map({'Married':2,'Single':1,'Divorced':0})"
   ]
  },
  {
   "cell_type": "code",
   "execution_count": null,
   "metadata": {
    "colab": {
     "base_uri": "https://localhost:8080/"
    },
    "id": "B2kcVekhJOt9",
    "outputId": "2e7da050-ffff-41e4-f565-eb6a466207d1"
   },
   "outputs": [],
   "source": [
    "df.MaritalStatus.value_counts()"
   ]
  },
  {
   "cell_type": "markdown",
   "metadata": {
    "id": "N8xXWTOrJQz7"
   },
   "source": [
    "### 4.Employee Department"
   ]
  },
  {
   "cell_type": "code",
   "execution_count": null,
   "metadata": {
    "colab": {
     "base_uri": "https://localhost:8080/"
    },
    "id": "STHUrt_rJPzZ",
    "outputId": "40affd55-8b66-41de-b1ef-0779fa51c994"
   },
   "outputs": [],
   "source": [
    "df.EmpDepartment.value_counts()"
   ]
  },
  {
   "cell_type": "code",
   "execution_count": null,
   "metadata": {
    "id": "J5b6ccewJTiZ"
   },
   "outputs": [],
   "source": [
    "df.loc[df['EmpDepartment']=='Sales','EmpDepartment']=5\n",
    "df.loc[df['EmpDepartment']=='Development','EmpDepartment']=4\n",
    "df.loc[df['EmpDepartment']=='Research & Development','EmpDepartment']=3\n",
    "df.loc[df['EmpDepartment']=='Human Resources','EmpDepartment']=2\n",
    "df.loc[df['EmpDepartment']=='Finance','EmpDepartment']=1\n",
    "df.loc[df['EmpDepartment']=='Data Science','EmpDepartment']=0"
   ]
  },
  {
   "cell_type": "code",
   "execution_count": null,
   "metadata": {
    "colab": {
     "base_uri": "https://localhost:8080/"
    },
    "id": "DVBBDNTtJVWK",
    "outputId": "4f59199a-0d2e-47ba-a7ee-b75b38d6affd"
   },
   "outputs": [],
   "source": [
    "df.EmpDepartment.value_counts()"
   ]
  },
  {
   "cell_type": "markdown",
   "metadata": {
    "id": "TeBMBhN-JXwl"
   },
   "source": [
    "### 5.Employee Job Role"
   ]
  },
  {
   "cell_type": "code",
   "execution_count": null,
   "metadata": {
    "colab": {
     "base_uri": "https://localhost:8080/"
    },
    "id": "uCzDOkZ2JWPO",
    "outputId": "25f5b66c-cde9-4bf8-85de-f8d17592db6b"
   },
   "outputs": [],
   "source": [
    "df.EmpJobRole.value_counts()"
   ]
  },
  {
   "cell_type": "code",
   "execution_count": null,
   "metadata": {
    "id": "Hcer46YhJa7c"
   },
   "outputs": [],
   "source": [
    "df.loc[df['EmpJobRole']=='Sales Executive','EmpJobRole']=18\n",
    "df.loc[df['EmpJobRole']=='Developer','EmpJobRole']=17\n",
    "df.loc[df['EmpJobRole']=='Manager R&D','EmpJobRole']=16\n",
    "df.loc[df['EmpJobRole']=='Research Scientist','EmpJobRole']=15\n",
    "df.loc[df['EmpJobRole']=='Sales Representative','EmpJobRole']=14\n",
    "df.loc[df['EmpJobRole']=='Laboratory Technician','EmpJobRole']=13\n",
    "df.loc[df['EmpJobRole']=='Senior Developer','EmpJobRole']=12\n",
    "df.loc[df['EmpJobRole']=='Manager','EmpJobRole']=11\n",
    "df.loc[df['EmpJobRole']=='Finance Manager','EmpJobRole']=10\n",
    "df.loc[df['EmpJobRole']=='Human Resources','EmpJobRole']=9\n",
    "df.loc[df['EmpJobRole']=='Technical Lead','EmpJobRole']=8\n",
    "df.loc[df['EmpJobRole']=='Manufacturing Director','EmpJobRole']=7\n",
    "df.loc[df['EmpJobRole']=='Healthcare Representative','EmpJobRole']=6\n",
    "df.loc[df['EmpJobRole']=='Data Scientist','EmpJobRole']=5\n",
    "df.loc[df['EmpJobRole']=='Research Director','EmpJobRole']=4\n",
    "df.loc[df['EmpJobRole']=='Business Analyst','EmpJobRole']=3\n",
    "df.loc[df['EmpJobRole']=='Senior Manager R&D','EmpJobRole']=2\n",
    "df.loc[df['EmpJobRole']=='Delivery Manager','EmpJobRole']=1\n",
    "df.loc[df['EmpJobRole']=='Technical Architect','EmpJobRole']=0"
   ]
  },
  {
   "cell_type": "code",
   "execution_count": null,
   "metadata": {
    "colab": {
     "base_uri": "https://localhost:8080/"
    },
    "id": "lctGrikQJckf",
    "outputId": "a4405621-5aa9-4c17-e614-dbda8e402f68"
   },
   "outputs": [],
   "source": [
    "df.EmpJobRole.value_counts()"
   ]
  },
  {
   "cell_type": "markdown",
   "metadata": {
    "id": "Q4VVr7tRJfbG"
   },
   "source": [
    "### 6.Business Travel Frequency:"
   ]
  },
  {
   "cell_type": "code",
   "execution_count": null,
   "metadata": {
    "colab": {
     "base_uri": "https://localhost:8080/"
    },
    "id": "PTYXwNuLJd-2",
    "outputId": "56b6e052-02e6-436c-d391-570eb0ebd44f"
   },
   "outputs": [],
   "source": [
    "df.BusinessTravelFrequency.value_counts()"
   ]
  },
  {
   "cell_type": "code",
   "execution_count": null,
   "metadata": {
    "id": "4x5uaJp8Jhd6"
   },
   "outputs": [],
   "source": [
    "df.BusinessTravelFrequency = df.BusinessTravelFrequency.map({'Travel_Rarely':2,'Travel_Frequently':1,'Non-Travel':0})"
   ]
  },
  {
   "cell_type": "code",
   "execution_count": null,
   "metadata": {
    "colab": {
     "base_uri": "https://localhost:8080/"
    },
    "id": "BM6b8YTFJi-2",
    "outputId": "a949436c-1c36-4d4e-ddc6-6701001674d7"
   },
   "outputs": [],
   "source": [
    "df.BusinessTravelFrequency.value_counts()"
   ]
  },
  {
   "cell_type": "markdown",
   "metadata": {
    "id": "_FTX8DVsJnko"
   },
   "source": [
    "### 7.Overtime:"
   ]
  },
  {
   "cell_type": "code",
   "execution_count": null,
   "metadata": {
    "colab": {
     "base_uri": "https://localhost:8080/"
    },
    "id": "Su2phz0NJmKF",
    "outputId": "f03c8cb1-b4c1-4645-c42a-10845e7ccc8c"
   },
   "outputs": [],
   "source": [
    "df.OverTime.value_counts()"
   ]
  },
  {
   "cell_type": "code",
   "execution_count": null,
   "metadata": {
    "id": "eKP4B0Q-Jpee"
   },
   "outputs": [],
   "source": [
    "df.OverTime = df.OverTime.map({'No':1,'Yes':0})"
   ]
  },
  {
   "cell_type": "code",
   "execution_count": null,
   "metadata": {
    "colab": {
     "base_uri": "https://localhost:8080/"
    },
    "id": "mvM1N-asJqkl",
    "outputId": "681224c5-ac90-4160-a3ea-93dc5cc07ced"
   },
   "outputs": [],
   "source": [
    "df.OverTime.value_counts()"
   ]
  },
  {
   "cell_type": "markdown",
   "metadata": {
    "id": "JOPnCq5zJtH0"
   },
   "source": [
    "### 8.Attrition"
   ]
  },
  {
   "cell_type": "code",
   "execution_count": null,
   "metadata": {
    "colab": {
     "base_uri": "https://localhost:8080/"
    },
    "id": "QVh0PmPPJroq",
    "outputId": "303ebb46-39e7-4ee0-b638-ed37c99c4df3"
   },
   "outputs": [],
   "source": [
    "df.Attrition.value_counts()"
   ]
  },
  {
   "cell_type": "code",
   "execution_count": null,
   "metadata": {
    "id": "hZJLeUNxJvWG"
   },
   "outputs": [],
   "source": [
    "df.Attrition = df.Attrition.map({'No':1,'Yes':0})"
   ]
  },
  {
   "cell_type": "code",
   "execution_count": null,
   "metadata": {
    "colab": {
     "base_uri": "https://localhost:8080/"
    },
    "id": "_J84yQxhJwV6",
    "outputId": "43dd38dd-47c6-4252-9385-59b1f66f9faa"
   },
   "outputs": [],
   "source": [
    "df.Attrition.value_counts()"
   ]
  },
  {
   "cell_type": "markdown",
   "metadata": {
    "id": "UL788aDAJ2rK"
   },
   "source": [
    "## CHECK OUTLIERS AND IMPUTE OUTLIERS"
   ]
  },
  {
   "cell_type": "code",
   "execution_count": null,
   "metadata": {
    "colab": {
     "base_uri": "https://localhost:8080/",
     "height": 381
    },
    "id": "3vPaVcSQJxlx",
    "outputId": "592ebe9f-e2bc-43e8-f404-db4a2179bcfb"
   },
   "outputs": [],
   "source": [
    "out = df[['TotalWorkExperienceInYears','TrainingTimesLastYear','ExperienceYearsAtThisCompany',\n",
    "            'ExperienceYearsInCurrentRole','YearsSinceLastPromotion','YearsWithCurrManager']]\n",
    "\n",
    "plt.figure(figsize=(20,10))\n",
    "plotno = 1\n",
    "\n",
    "for column in out:\n",
    "    if plotno<=7:\n",
    "        plt.subplot(2,3,plotno)\n",
    "        sns.boxplot(out[column])\n",
    "        plt.xlabel(column,fontsize=20)\n",
    "    plotno+=1\n",
    "plt.tight_layout()\n",
    "plt.show()"
   ]
  },
  {
   "cell_type": "markdown",
   "metadata": {
    "id": "e-J7u2aKPBqz"
   },
   "source": [
    "* Here we are use inter quatile range to impute the outlier, becuase data is not normally distributed."
   ]
  },
  {
   "cell_type": "markdown",
   "metadata": {
    "id": "foYoSAnOrhGJ"
   },
   "source": [
    "**IQR:**\n",
    "\n",
    "* IQR stand for the interquatile range, When a data set has outliers or extreme values, we summarize a typical value using the median as opposed to the mean. which is the difference between the first and third quartiles"
   ]
  },
  {
   "cell_type": "markdown",
   "metadata": {
    "id": "iB1MwU1MPVRd"
   },
   "source": [
    "### 1.Total Work Experiance in year"
   ]
  },
  {
   "cell_type": "code",
   "execution_count": null,
   "metadata": {
    "id": "kbmD8caxPcjD"
   },
   "outputs": [],
   "source": [
    "from scipy import stats"
   ]
  },
  {
   "cell_type": "code",
   "execution_count": null,
   "metadata": {
    "colab": {
     "base_uri": "https://localhost:8080/"
    },
    "id": "UaCRBeGBJ8r3",
    "outputId": "e257f60a-a143-4a4a-bed7-70a7353e9d69"
   },
   "outputs": [],
   "source": [
    "iqr = stats.iqr(df['TotalWorkExperienceInYears'],interpolation='midpoint')\n",
    "print(\"IQR:\",iqr)\n",
    "\n",
    "Q1 = df['TotalWorkExperienceInYears'].quantile(0.25)\n",
    "Q3 = df['TotalWorkExperienceInYears'].quantile(0.75)\n",
    "\n",
    "min_limit = Q1 - 1.5*iqr\n",
    "print(\"Minimum limit:\",min_limit)\n",
    "\n",
    "max_limit = Q3 + 1.5*iqr\n",
    "print(\"Maximum Limit:\",max_limit)"
   ]
  },
  {
   "cell_type": "code",
   "execution_count": null,
   "metadata": {
    "id": "yXGVaY_6PZpt"
   },
   "outputs": [],
   "source": [
    "df.loc[df['TotalWorkExperienceInYears'] > max_limit,'TotalWorkExperienceInYears']=df['TotalWorkExperienceInYears'].median()\n"
   ]
  },
  {
   "cell_type": "code",
   "execution_count": null,
   "metadata": {
    "colab": {
     "base_uri": "https://localhost:8080/",
     "height": 73
    },
    "id": "3zYvRb0GPnhz",
    "outputId": "ef8eda86-bb38-45c8-fd9c-8ed9353b31cd"
   },
   "outputs": [],
   "source": [
    "df.loc[df['TotalWorkExperienceInYears'] > max_limit]"
   ]
  },
  {
   "cell_type": "markdown",
   "metadata": {
    "id": "GjYO4VLUPs2T"
   },
   "source": [
    "### 2.Training Times Last Year"
   ]
  },
  {
   "cell_type": "code",
   "execution_count": null,
   "metadata": {
    "colab": {
     "base_uri": "https://localhost:8080/"
    },
    "id": "Y5e2RAmEPqYz",
    "outputId": "c034bb16-b810-4bf8-913a-31356a7f0d60"
   },
   "outputs": [],
   "source": [
    "iqr = stats.iqr(df['TrainingTimesLastYear'],interpolation='midpoint')\n",
    "print(\"IQR:\",iqr)\n",
    "\n",
    "Q1 = df['TrainingTimesLastYear'].quantile(0.25)\n",
    "Q3 = df['TrainingTimesLastYear'].quantile(0.75)\n",
    "\n",
    "min_limit = Q1 - 1.5*iqr\n",
    "print(\"Minimum limit:\",min_limit)\n",
    "\n",
    "max_limit = Q3 + 1.5*iqr\n",
    "print(\"Maximum Limit:\",max_limit)"
   ]
  },
  {
   "cell_type": "code",
   "execution_count": null,
   "metadata": {
    "id": "BOAziXhbRCkO"
   },
   "outputs": [],
   "source": [
    "df.loc[df['TrainingTimesLastYear'] < min_limit,'TrainingTimesLastYear']=df['TrainingTimesLastYear'].median()\n",
    "df.loc[df['TrainingTimesLastYear'] > max_limit,'TrainingTimesLastYear']=df['TrainingTimesLastYear'].median()"
   ]
  },
  {
   "cell_type": "code",
   "execution_count": null,
   "metadata": {
    "colab": {
     "base_uri": "https://localhost:8080/",
     "height": 73
    },
    "id": "U9rk6WvHRFRM",
    "outputId": "794341ab-a827-4c9a-fe71-f836a7668648"
   },
   "outputs": [],
   "source": [
    "df.loc[df['TrainingTimesLastYear'] < min_limit]"
   ]
  },
  {
   "cell_type": "code",
   "execution_count": null,
   "metadata": {
    "colab": {
     "base_uri": "https://localhost:8080/",
     "height": 73
    },
    "id": "0N4xgP73RH1I",
    "outputId": "90c09d75-1bd8-417b-87b8-329a1e31e909"
   },
   "outputs": [],
   "source": [
    "df.loc[df['TrainingTimesLastYear'] > max_limit]"
   ]
  },
  {
   "cell_type": "markdown",
   "metadata": {
    "id": "gQP3D_j3RLA3"
   },
   "source": [
    "### 3.Experience Years At This Company"
   ]
  },
  {
   "cell_type": "code",
   "execution_count": null,
   "metadata": {
    "colab": {
     "base_uri": "https://localhost:8080/"
    },
    "id": "DWGfFm-xRJ00",
    "outputId": "45541cc8-e8fb-4a5c-8ba7-fd61cd36770e"
   },
   "outputs": [],
   "source": [
    "iqr = stats.iqr(df['ExperienceYearsAtThisCompany'],interpolation='midpoint')\n",
    "print(\"IQR:\",iqr)\n",
    "\n",
    "Q1 = df['ExperienceYearsAtThisCompany'].quantile(0.25)\n",
    "Q3 = df['ExperienceYearsAtThisCompany'].quantile(0.75)\n",
    "\n",
    "min_limit = Q1 - 1.5*iqr\n",
    "print(\"Minimum limit:\",min_limit)\n",
    "\n",
    "max_limit = Q3 + 1.5*iqr\n",
    "print(\"Maximum Limit:\",max_limit)"
   ]
  },
  {
   "cell_type": "code",
   "execution_count": null,
   "metadata": {
    "id": "xCYGH3nrROEQ"
   },
   "outputs": [],
   "source": [
    "df.loc[df['ExperienceYearsAtThisCompany'] > max_limit,'ExperienceYearsAtThisCompany']=df['ExperienceYearsAtThisCompany'].median()\n"
   ]
  },
  {
   "cell_type": "code",
   "execution_count": null,
   "metadata": {
    "colab": {
     "base_uri": "https://localhost:8080/",
     "height": 73
    },
    "id": "Hve-SrIIRRSg",
    "outputId": "38e4368d-0243-44d6-c56e-135ea4140717"
   },
   "outputs": [],
   "source": [
    "df.loc[df['ExperienceYearsAtThisCompany'] > max_limit]"
   ]
  },
  {
   "cell_type": "markdown",
   "metadata": {
    "id": "GPeJbCaMRUV_"
   },
   "source": [
    "### 4.Experience Years In Current Role"
   ]
  },
  {
   "cell_type": "code",
   "execution_count": null,
   "metadata": {
    "colab": {
     "base_uri": "https://localhost:8080/"
    },
    "id": "ASrORS5IRTGh",
    "outputId": "14e1a0fd-dadb-4476-d82a-c051715d5f61"
   },
   "outputs": [],
   "source": [
    "iqr = stats.iqr(df['ExperienceYearsInCurrentRole'],interpolation='midpoint')\n",
    "print(\"IQR:\",iqr)\n",
    "\n",
    "Q1 = df['ExperienceYearsInCurrentRole'].quantile(0.25)\n",
    "Q3 = df['ExperienceYearsInCurrentRole'].quantile(0.75)\n",
    "\n",
    "min_limit = Q1 - 1.5*iqr\n",
    "print(\"Minimum limit:\",min_limit)\n",
    "\n",
    "max_limit = Q3 + 1.5*iqr\n",
    "print(\"Maximum Limit:\",max_limit)"
   ]
  },
  {
   "cell_type": "code",
   "execution_count": null,
   "metadata": {
    "id": "lBC1nLGxRaDy"
   },
   "outputs": [],
   "source": [
    "df.loc[df['ExperienceYearsInCurrentRole'] > max_limit,'ExperienceYearsInCurrentRole'] = df['ExperienceYearsInCurrentRole'].median()\n"
   ]
  },
  {
   "cell_type": "code",
   "execution_count": null,
   "metadata": {
    "colab": {
     "base_uri": "https://localhost:8080/",
     "height": 73
    },
    "id": "qfj9k0w1RulB",
    "outputId": "ab9b0a1e-60de-47df-b4f6-0f06c3d1bd17"
   },
   "outputs": [],
   "source": [
    "df.loc[df['ExperienceYearsInCurrentRole'] > max_limit]"
   ]
  },
  {
   "cell_type": "markdown",
   "metadata": {
    "id": "x0rpen2-Ry0m"
   },
   "source": [
    "### 5.Years Since Last Promotion"
   ]
  },
  {
   "cell_type": "code",
   "execution_count": null,
   "metadata": {
    "colab": {
     "base_uri": "https://localhost:8080/"
    },
    "id": "flmV2lJNRwdl",
    "outputId": "af8e638b-b8da-4437-f4cd-a1afa10f2b50"
   },
   "outputs": [],
   "source": [
    "iqr = stats.iqr(df['YearsSinceLastPromotion'],interpolation='midpoint')\n",
    "print(\"IQR:\",iqr)\n",
    "\n",
    "Q1 = df['YearsSinceLastPromotion'].quantile(0.25)\n",
    "Q3 = df['YearsSinceLastPromotion'].quantile(0.75)\n",
    "\n",
    "min_limit = Q1 - 1.5*iqr\n",
    "print(\"Minimum limit:\",min_limit)\n",
    "\n",
    "max_limit = Q3 +1.5*iqr\n",
    "print(\"Maximum limit\",max_limit)"
   ]
  },
  {
   "cell_type": "code",
   "execution_count": null,
   "metadata": {
    "id": "8wvTVvdoR2wM"
   },
   "outputs": [],
   "source": [
    "df.loc[df['YearsSinceLastPromotion'] > max_limit,'YearsSinceLastPromotion']=df['YearsSinceLastPromotion'].median()\n"
   ]
  },
  {
   "cell_type": "code",
   "execution_count": null,
   "metadata": {
    "colab": {
     "base_uri": "https://localhost:8080/",
     "height": 73
    },
    "id": "TaBC1pdkR5Gh",
    "outputId": "4598ec7e-fbdc-4f06-d51e-25b574612691"
   },
   "outputs": [],
   "source": [
    "df.loc[df['YearsSinceLastPromotion'] > max_limit]"
   ]
  },
  {
   "cell_type": "markdown",
   "metadata": {
    "id": "JhPODa_kR8ek"
   },
   "source": [
    "### 6.Years With Current Manager"
   ]
  },
  {
   "cell_type": "code",
   "execution_count": null,
   "metadata": {
    "colab": {
     "base_uri": "https://localhost:8080/"
    },
    "id": "U9RnkYBER69E",
    "outputId": "5bf43cdf-6e6b-4a6b-abaf-4abd171b3b80"
   },
   "outputs": [],
   "source": [
    "iqr = stats.iqr(df['YearsWithCurrManager'],interpolation='midpoint')\n",
    "print(\"IQR:\",iqr)\n",
    "\n",
    "Q1 = df['YearsWithCurrManager'].quantile(0.25)\n",
    "Q3 = df['YearsWithCurrManager'].quantile(0.75)\n",
    "\n",
    "min_limit = Q1 - 1.5*iqr\n",
    "print(\"Minimum limit:\",min_limit)\n",
    "\n",
    "max_limit = Q3 +1.5*iqr\n",
    "print(\"Maximum limit\",max_limit)"
   ]
  },
  {
   "cell_type": "code",
   "execution_count": null,
   "metadata": {
    "id": "vnui13kzR_UA"
   },
   "outputs": [],
   "source": [
    "df.loc[df['YearsWithCurrManager'] > max_limit,'YearsWithCurrManager']=df['YearsWithCurrManager'].median()\n"
   ]
  },
  {
   "cell_type": "code",
   "execution_count": null,
   "metadata": {
    "colab": {
     "base_uri": "https://localhost:8080/",
     "height": 73
    },
    "id": "0XYjJbsJSBgS",
    "outputId": "47962962-647a-4630-8762-6cedaae13341"
   },
   "outputs": [],
   "source": [
    "df.loc[df['YearsWithCurrManager'] >max_limit]"
   ]
  },
  {
   "cell_type": "markdown",
   "metadata": {
    "id": "6QGIq5wdSFJg"
   },
   "source": [
    "### CHECKING OUTLIERS AFTER IMPUTATION"
   ]
  },
  {
   "cell_type": "code",
   "execution_count": null,
   "metadata": {
    "colab": {
     "base_uri": "https://localhost:8080/",
     "height": 1000
    },
    "id": "qEd_GULPSDhU",
    "outputId": "6b616302-3d68-4dc3-8a8b-15129e5957b8"
   },
   "outputs": [],
   "source": [
    "out = df[['TotalWorkExperienceInYears','TrainingTimesLastYear','ExperienceYearsAtThisCompany',\n",
    "            'ExperienceYearsInCurrentRole','YearsSinceLastPromotion','YearsWithCurrManager']]\n",
    "\n",
    "plt.figure(figsize=(20,10))\n",
    "plotno = 1\n",
    "\n",
    "for column in out:\n",
    "    if plotno<=7:\n",
    "        plt.subplot(2,3,plotno)\n",
    "        sns.boxplot(out[column])\n",
    "        plt.xlabel(column,fontsize=20)\n",
    "    plotno+=1\n",
    "plt.tight_layout()\n",
    "plt.show()"
   ]
  },
  {
   "cell_type": "markdown",
   "metadata": {
    "id": "tjrbfgHKSOG-"
   },
   "source": [
    "Observation:\n",
    "\n",
    "* Outlier impute sucessfully, but some feature box plot showing outlier, so we can not impute this outlier."
   ]
  },
  {
   "cell_type": "markdown",
   "metadata": {
    "id": "edaRW9cgSVQk"
   },
   "source": [
    "### FEATURE TRANSFORMATION"
   ]
  },
  {
   "cell_type": "markdown",
   "metadata": {
    "id": "BrsTL3JrSbtY"
   },
   "source": [
    "In EDA we get the year since last promotion feature have some skewed , so we use square root transformation"
   ]
  },
  {
   "cell_type": "code",
   "execution_count": null,
   "metadata": {
    "id": "rRMGp-B9TmKC"
   },
   "outputs": [],
   "source": [
    "import scipy.stats as stats"
   ]
  },
  {
   "cell_type": "code",
   "execution_count": null,
   "metadata": {
    "id": "uzvMTvkdS2Gz"
   },
   "outputs": [],
   "source": [
    "def plot_data(df, feature):\n",
    "    plt.figure(figsize=(10,5))\n",
    "    plt.subplot(1,2,1)\n",
    "    df[feature].hist()\n",
    "    plt.subplot(1,2,2)\n",
    "    stats.probplot(df[feature], dist='norm', plot=plt)\n",
    "    plt.show()\n"
   ]
  },
  {
   "cell_type": "code",
   "execution_count": null,
   "metadata": {
    "colab": {
     "base_uri": "https://localhost:8080/",
     "height": 434
    },
    "id": "MlxgsHkiS4KJ",
    "outputId": "1c692bfd-4fbf-4da6-ee39-1b2ec51a792e"
   },
   "outputs": [],
   "source": [
    "plot_data(df, 'YearsSinceLastPromotion')"
   ]
  },
  {
   "cell_type": "code",
   "execution_count": null,
   "metadata": {
    "id": "kSqT5xPgSMGi"
   },
   "outputs": [],
   "source": [
    "df['square_YearsSinceLastPromotion'] = df.YearsSinceLastPromotion**(1/2)"
   ]
  },
  {
   "cell_type": "code",
   "execution_count": null,
   "metadata": {
    "colab": {
     "base_uri": "https://localhost:8080/",
     "height": 434
    },
    "id": "7vIBhoT2Su9U",
    "outputId": "ddaf547b-7ac9-491b-acba-0c333cd46a37"
   },
   "outputs": [],
   "source": [
    "plot_data(df,'square_YearsSinceLastPromotion')"
   ]
  },
  {
   "cell_type": "markdown",
   "metadata": {
    "id": "_wyYmtrpTwNt"
   },
   "source": [
    "Now some points are close to the line."
   ]
  },
  {
   "cell_type": "markdown",
   "metadata": {
    "id": "zSbIy2l2T0dV"
   },
   "source": [
    "SCALING THE DATA"
   ]
  },
  {
   "cell_type": "code",
   "execution_count": null,
   "metadata": {
    "id": "L5lnD4OlSxpG"
   },
   "outputs": [],
   "source": [
    "from sklearn.preprocessing import StandardScaler\n",
    "\n",
    "scalar = StandardScaler()\n",
    "\n",
    "df[['Age','DistanceFromHome','EmpHourlyRate','EmpLastSalaryHikePercent','TotalWorkExperienceInYears',\n",
    "      'TrainingTimesLastYear','ExperienceYearsAtThisCompany','ExperienceYearsInCurrentRole','YearsWithCurrManager',\n",
    "      'square_YearsSinceLastPromotion']]=scalar.fit_transform(df[['Age','DistanceFromHome','EmpHourlyRate',\n",
    "      'EmpLastSalaryHikePercent','TotalWorkExperienceInYears','TrainingTimesLastYear','ExperienceYearsAtThisCompany',\n",
    "      'ExperienceYearsInCurrentRole','YearsWithCurrManager','square_YearsSinceLastPromotion']])\n"
   ]
  },
  {
   "cell_type": "code",
   "execution_count": null,
   "metadata": {
    "colab": {
     "base_uri": "https://localhost:8080/",
     "height": 226
    },
    "id": "Tk3SexEFTzew",
    "outputId": "2e41ec36-7dfd-45da-8830-e5419402dcb7"
   },
   "outputs": [],
   "source": [
    "df.head()"
   ]
  },
  {
   "cell_type": "markdown",
   "metadata": {
    "id": "9neq6SpPUFwk"
   },
   "source": [
    "## FEATURE SELECTION"
   ]
  },
  {
   "cell_type": "markdown",
   "metadata": {
    "id": "p6hkVSLBUJ-v"
   },
   "source": [
    "\n",
    "### DROP UNIQUE AND CONTANT FEATURES"
   ]
  },
  {
   "cell_type": "code",
   "execution_count": null,
   "metadata": {
    "id": "O-JK3i9XUELN"
   },
   "outputs": [],
   "source": [
    "df.drop(['EmpNumber','YearsSinceLastPromotion'],axis=1,inplace=True)"
   ]
  },
  {
   "cell_type": "markdown",
   "metadata": {
    "id": "YYvCQ_IyUR1g"
   },
   "source": [
    "CHECKING CORELATION"
   ]
  },
  {
   "cell_type": "code",
   "execution_count": null,
   "metadata": {
    "colab": {
     "base_uri": "https://localhost:8080/",
     "height": 852
    },
    "id": "ZX8mqAOYUMxd",
    "outputId": "b27db692-69f3-49b8-a82b-f1cbeceaa869"
   },
   "outputs": [],
   "source": [
    "plt.figure(figsize=(50,50))\n",
    "sns.heatmap(df.corr(),annot=True,cmap='BuPu')\n",
    "plt.show()"
   ]
  },
  {
   "cell_type": "markdown",
   "metadata": {
    "id": "CYoElo-KUayt"
   },
   "source": [
    "## Identifying Top 3 Factors Affecting Employee Performance"
   ]
  },
  {
   "cell_type": "markdown",
   "metadata": {
    "id": "D07dqRKFUki-"
   },
   "source": [
    "From the above Heatmap, We can observe that the top 3 factors identifying employee performance are features highly corelated to PerformanceRating\n",
    "\n",
    "**They are:**\n",
    "\n",
    "* EmpEnvironmentSatisfaction\n",
    "* EmpLastSalaryHikePercent\n",
    "* EmpWorkLifeBalance"
   ]
  },
  {
   "cell_type": "markdown",
   "metadata": {
    "id": "qlmAgz__V7VL"
   },
   "source": [
    "CHECKING DUPLICATES"
   ]
  },
  {
   "cell_type": "code",
   "execution_count": null,
   "metadata": {
    "colab": {
     "base_uri": "https://localhost:8080/"
    },
    "id": "Km_tATfMUV1w",
    "outputId": "bebe969e-c99d-4ad8-a85b-5c8bb336e6c6"
   },
   "outputs": [],
   "source": [
    "data.duplicated().sum()"
   ]
  },
  {
   "cell_type": "markdown",
   "metadata": {
    "id": "TqrTiZAIWAzM"
   },
   "source": [
    "There is no Duplicates present in the data"
   ]
  },
  {
   "cell_type": "markdown",
   "metadata": {
    "id": "0ccT5vyOWMM3"
   },
   "source": [
    "PCA(Principal Component Analysis)\n",
    "\n",
    "* The dataset contain more than 25 feature, removes the noise in the data and keeps only the most important features in the dataset.\n",
    "\n",
    "* This will mitigate the overfitting of the data and increase the model's performance."
   ]
  },
  {
   "cell_type": "code",
   "execution_count": null,
   "metadata": {
    "colab": {
     "base_uri": "https://localhost:8080/",
     "height": 567
    },
    "id": "s8GF7hR-V-7d",
    "outputId": "92a03c24-c05b-4e3d-cf5b-916ddf896d95"
   },
   "outputs": [],
   "source": [
    "from sklearn.decomposition import PCA\n",
    "\n",
    "pca = PCA()\n",
    "\n",
    "principlecomponent = pca.fit_transform(df)\n",
    "plt.figure(figsize=(10,7))\n",
    "sns.set_style('darkgrid')\n",
    "plt.plot(np.cumsum(pca.explained_variance_ratio_),color='k')\n",
    "plt.xlabel('Number of components',fontsize=20)\n",
    "plt.ylabel('Variance(%)',fontsize=20)\n",
    "plt.title('Explained Variance',fontsize=20)\n",
    "plt.show()"
   ]
  },
  {
   "cell_type": "markdown",
   "metadata": {
    "id": "jJj1ONY9Wyvc"
   },
   "source": [
    "**Observation:**\n",
    "\n",
    "*  Data is contain total 27 feature after dropping unique and constant column,from above PCA it shows the 25 feature has less varaince loss, so we are going to select 25 feature."
   ]
  },
  {
   "cell_type": "code",
   "execution_count": null,
   "metadata": {
    "colab": {
     "base_uri": "https://localhost:8080/"
    },
    "id": "MpqmyWvxWdko",
    "outputId": "8eba9145-df15-4e0f-e718-9fd3a2d06ef9"
   },
   "outputs": [],
   "source": [
    "pca = PCA(n_components=25)\n",
    "new_data = pca.fit_transform(df)\n",
    "new_data"
   ]
  },
  {
   "cell_type": "code",
   "execution_count": null,
   "metadata": {
    "colab": {
     "base_uri": "https://localhost:8080/",
     "height": 226
    },
    "id": "flOvUNdsW3qv",
    "outputId": "af35930e-a737-47a4-e548-30b3aba18d63"
   },
   "outputs": [],
   "source": [
    "principle_df = pd.DataFrame(data=new_data,columns=['pca1','pca2','pca3','pca4','pca5','pca6','pca7','pca8','pca9','pca10',\n",
    "                            'pca11','pca12','pca13','pca14','pca15','pca16','pca17','pca18','pca19','pca20','pca21','pca22',\n",
    "                            'pca23','pca24','pca25'])\n",
    "\n",
    "principle_df['PerformanceRating']=df.PerformanceRating\n",
    "\n",
    "principle_df.head()"
   ]
  },
  {
   "cell_type": "markdown",
   "metadata": {
    "id": "EcTQK5bAr8_w"
   },
   "source": [
    "### SAVE PRE-PROCESS DATA"
   ]
  },
  {
   "cell_type": "code",
   "execution_count": null,
   "metadata": {
    "colab": {
     "base_uri": "https://localhost:8080/",
     "height": 244
    },
    "id": "eC4a6euQW5a8",
    "outputId": "6280e455-8d09-4d7e-b5c8-947c9c598aad"
   },
   "outputs": [],
   "source": [
    "principle_df.to_csv('employee_performance_analysis_preprocessed_data.csv')\n",
    "\n",
    "df1 = pd.read_csv('employee_performance_analysis_preprocessed_data.csv')\n",
    "\n",
    "df1.head()"
   ]
  },
  {
   "cell_type": "markdown",
   "metadata": {
    "id": "OSL4WW-EXS-h"
   },
   "source": [
    "LOADING PREPROCESS DATA"
   ]
  },
  {
   "cell_type": "code",
   "execution_count": null,
   "metadata": {
    "colab": {
     "base_uri": "https://localhost:8080/",
     "height": 226
    },
    "id": "Hrjoib6WXN68",
    "outputId": "13462368-5062-4c35-f013-0a46b5ee9f3f"
   },
   "outputs": [],
   "source": [
    "data1 = pd.read_csv('employee_performance_analysis_preprocessed_data.csv')\n",
    "pd.set_option('display.max_columns',None)\n",
    "data1.drop('Unnamed: 0',axis=1,inplace=True)\n",
    "data1.head()"
   ]
  },
  {
   "cell_type": "markdown",
   "metadata": {
    "id": "ai5P66DxXeS4"
   },
   "source": [
    "### Indepandent and Dependent Features"
   ]
  },
  {
   "cell_type": "code",
   "execution_count": null,
   "metadata": {
    "id": "6GzTDZT0Xcf7"
   },
   "outputs": [],
   "source": [
    "X = data1.iloc[:,:-1]\n",
    "y = data1.PerformanceRating"
   ]
  },
  {
   "cell_type": "code",
   "execution_count": null,
   "metadata": {
    "colab": {
     "base_uri": "https://localhost:8080/",
     "height": 226
    },
    "id": "Nn9qmHJXXjHG",
    "outputId": "c26e7546-6286-4437-d322-15b36d4a40da"
   },
   "outputs": [],
   "source": [
    "X.head()"
   ]
  },
  {
   "cell_type": "code",
   "execution_count": null,
   "metadata": {
    "colab": {
     "base_uri": "https://localhost:8080/"
    },
    "id": "yRC5fDOEXlwR",
    "outputId": "2e96352e-b3ea-4a0b-98a1-17385c58c205"
   },
   "outputs": [],
   "source": [
    "y.head()"
   ]
  },
  {
   "cell_type": "markdown",
   "metadata": {
    "id": "LqQd0Z7VXpBb"
   },
   "source": [
    "## BALANCING THE TARGET FEATURE"
   ]
  },
  {
   "cell_type": "markdown",
   "metadata": {
    "id": "x-Y8THmiXtGT"
   },
   "source": [
    "* SMOTE (synthetic minority oversampling technique) is one of the most commonly used oversampling methods to solve the imbalance problem.\n",
    "* It aims to balance class distribution by randomly increasing minority class examples by replicating them.\n",
    "* SMOTE synthesises new minority instances between existing minority instances."
   ]
  },
  {
   "cell_type": "code",
   "execution_count": null,
   "metadata": {
    "colab": {
     "base_uri": "https://localhost:8080/"
    },
    "id": "od1Uf5kVXnIf",
    "outputId": "e8b24a1d-8a40-4614-b66b-ed556d5d9e50"
   },
   "outputs": [],
   "source": [
    "from collections import Counter\n",
    "from imblearn.over_sampling import SMOTE\n",
    "sm = SMOTE()\n",
    "print(\"unbalanced data   :  \",Counter(y))\n",
    "X_sm,y_sm = sm.fit_resample(X,y)\n",
    "print(\"balanced data:    :\",Counter(y_sm))"
   ]
  },
  {
   "cell_type": "markdown",
   "metadata": {
    "id": "iMkLP-PLX2Cx"
   },
   "source": [
    "Now target feature in balance"
   ]
  },
  {
   "cell_type": "markdown",
   "metadata": {
    "id": "0t30DMWIX31u"
   },
   "source": [
    "## SPLIT TRAINING AND TESTING DATA"
   ]
  },
  {
   "cell_type": "code",
   "execution_count": null,
   "metadata": {
    "id": "AjAHK4snX0N2"
   },
   "outputs": [],
   "source": [
    "from sklearn.model_selection import train_test_split\n",
    "X_train,X_test,y_train,y_test=train_test_split(X_sm,y_sm,random_state=42,test_size=0.20)"
   ]
  },
  {
   "cell_type": "code",
   "execution_count": null,
   "metadata": {
    "colab": {
     "base_uri": "https://localhost:8080/"
    },
    "id": "6M16dECzX6Qk",
    "outputId": "8e1e2437-1756-478c-85a8-5040baa8c460"
   },
   "outputs": [],
   "source": [
    "X_train.shape, X_test.shape, y_train.shape, y_test.shape"
   ]
  },
  {
   "cell_type": "markdown",
   "metadata": {
    "id": "S34io4cmX_NJ"
   },
   "source": [
    "### MODEL CREATION, PREDICTION AND EVALUATION"
   ]
  },
  {
   "cell_type": "code",
   "execution_count": null,
   "metadata": {
    "id": "RuAcS_mSajX5"
   },
   "outputs": [],
   "source": [
    "from sklearn.ensemble import RandomForestClassifier\n",
    "from sklearn.tree import DecisionTreeClassifier\n",
    "from sklearn.ensemble import GradientBoostingClassifier\n",
    "from sklearn.metrics import accuracy_score, f1_score, recall_score, precision_score, classification_report, confusion_matrix\n",
    "from sklearn.model_selection import GridSearchCV\n",
    "from sklearn.model_selection import RandomizedSearchCV\n",
    "from sklearn.svm import SVC"
   ]
  },
  {
   "cell_type": "markdown",
   "metadata": {
    "id": "Qz-0a3PRYDjE"
   },
   "source": [
    "### Support Vector Machine"
   ]
  },
  {
   "cell_type": "code",
   "execution_count": null,
   "metadata": {
    "id": "XNWx0AbDX8nA"
   },
   "outputs": [],
   "source": [
    "svc = SVC()\n",
    "\n",
    "svc.fit(X_train,y_train)\n",
    "\n",
    "svc_train_predict = svc.predict(X_train)\n",
    "\n",
    "svc_test_predict = svc.predict(X_test)"
   ]
  },
  {
   "cell_type": "markdown",
   "metadata": {
    "id": "q2bAabvNYQuP"
   },
   "source": [
    "TRAINING ACCURACY"
   ]
  },
  {
   "cell_type": "code",
   "execution_count": null,
   "metadata": {
    "colab": {
     "base_uri": "https://localhost:8080/"
    },
    "id": "VdU3SDCjYIR8",
    "outputId": "302e6774-4ca9-4a5e-c30a-b58cf8e4a6ed"
   },
   "outputs": [],
   "source": [
    "svc_train_accuracy = accuracy_score(svc_train_predict,y_train)\n",
    "print(\"Training accuracy of support vector classifier model\",svc_train_accuracy*100)\n",
    "print(\"support vector classifier Classification report: \\n\",classification_report(svc_train_predict,y_train))"
   ]
  },
  {
   "cell_type": "markdown",
   "metadata": {
    "id": "jfGqt6vfYWes"
   },
   "source": [
    "Support vector classifier perform well on training data"
   ]
  },
  {
   "cell_type": "markdown",
   "metadata": {
    "id": "kNEMijr3YPyC"
   },
   "source": [
    "TESTING ACCURACY"
   ]
  },
  {
   "cell_type": "code",
   "execution_count": null,
   "metadata": {
    "colab": {
     "base_uri": "https://localhost:8080/"
    },
    "id": "xDRmsi1OYNay",
    "outputId": "e59e6487-07a8-49b3-9da1-def405c15c41"
   },
   "outputs": [],
   "source": [
    "svc_test_accuracy = accuracy_score(svc_test_predict,y_test)\n",
    "print(\"Testing accuracy of support vector classifier model\",svc_test_accuracy*100)\n",
    "print(\"support vector classifier Classification report: \\n\",classification_report(svc_test_predict,y_test))"
   ]
  },
  {
   "cell_type": "markdown",
   "metadata": {
    "id": "7fl3NHg4YYU0"
   },
   "source": [
    "In testing score is still lagging so we are going to do hyperparameter tunning with the help of grid search cv"
   ]
  },
  {
   "cell_type": "markdown",
   "metadata": {
    "id": "tvN1teWKYbXw"
   },
   "source": [
    "### HYPER PARAMETER TUNNING WITH GRID SEARCH CV"
   ]
  },
  {
   "cell_type": "code",
   "execution_count": null,
   "metadata": {
    "colab": {
     "base_uri": "https://localhost:8080/",
     "height": 1000
    },
    "id": "Votb1jCWYTW_",
    "outputId": "938b067f-f178-491e-d05a-fc6b0a063a6c"
   },
   "outputs": [],
   "source": [
    "param_grid = {'C':[0.1,0.5,10,50,60,70,80],\n",
    "             'gamma':[1,0.1,0.001,0.0001,0.00001],\n",
    "             'random_state':(list(range(1,20)))}\n",
    "model = SVC()\n",
    "grid = GridSearchCV(model,param_grid,refit=True,verbose=2,scoring='f1',cv=5)\n",
    "\n",
    "grid.fit(X,y)"
   ]
  },
  {
   "cell_type": "code",
   "execution_count": null,
   "metadata": {
    "id": "pW9gz499Yd0G"
   },
   "outputs": [],
   "source": [
    "clf =SVC(C=0.6,gamma=0.1,random_state=1)\n",
    "\n",
    "clf.fit(X_train,y_train)\n",
    "\n",
    "y_hat_clf = clf.predict(X_test)"
   ]
  },
  {
   "cell_type": "markdown",
   "metadata": {
    "id": "7CYed0FpZPE8"
   },
   "source": [
    "### TESTING ACCURACY AFTER HYPERPARAMETER TUNNING"
   ]
  },
  {
   "cell_type": "code",
   "execution_count": null,
   "metadata": {
    "colab": {
     "base_uri": "https://localhost:8080/"
    },
    "id": "0UXJSJZ2ZRcJ",
    "outputId": "5376f52b-02f3-4747-d08d-9f36ef25f227"
   },
   "outputs": [],
   "source": [
    "test_accuracy = accuracy_score(y_hat_clf,y_test)\n",
    "print(\"Testing accuracy of support vector classifier model\",test_accuracy*100)\n",
    "print(\"support vector classifier Classification report: \\n\",classification_report(y_hat_clf,y_test))"
   ]
  },
  {
   "cell_type": "markdown",
   "metadata": {
    "id": "fQCGF0XvZUFz"
   },
   "source": [
    "## Random Forest"
   ]
  },
  {
   "cell_type": "code",
   "execution_count": null,
   "metadata": {
    "id": "pbZLQUvoZWe3"
   },
   "outputs": [],
   "source": [
    "rf = RandomForestClassifier(n_estimators=100)\n",
    "\n",
    "rf.fit(X_train,y_train)\n",
    "\n",
    "rf_test_predict = rf.predict(X_test)\n",
    "\n",
    "rf_train_predict = rf.predict(X_train)"
   ]
  },
  {
   "cell_type": "markdown",
   "metadata": {
    "id": "9w1b4WwiZcdn"
   },
   "source": [
    "### TRANING ACCURACY"
   ]
  },
  {
   "cell_type": "code",
   "execution_count": null,
   "metadata": {
    "colab": {
     "base_uri": "https://localhost:8080/"
    },
    "id": "J6F3ja2DZbK5",
    "outputId": "0e5aa534-28fd-4954-a628-5cfca17e7477"
   },
   "outputs": [],
   "source": [
    "rf_train_accuracy = accuracy_score(rf_train_predict,y_train)\n",
    "print(\"Training accuracy of random forest\",rf_train_accuracy*100)\n",
    "print(\"Classification report of training: \\n\",classification_report(rf_train_predict,y_train))"
   ]
  },
  {
   "cell_type": "markdown",
   "metadata": {
    "id": "rDC-XZ5MZ4N3"
   },
   "source": [
    "Random forest classifier very well work on training data."
   ]
  },
  {
   "cell_type": "markdown",
   "metadata": {
    "id": "j_6vh3moZgwq"
   },
   "source": [
    "### TESTING ACCURACY"
   ]
  },
  {
   "cell_type": "code",
   "execution_count": null,
   "metadata": {
    "colab": {
     "base_uri": "https://localhost:8080/"
    },
    "id": "RKYbrNeLZbID",
    "outputId": "9df3b5a9-5b3d-46d9-bdbd-42cf4b8baa49"
   },
   "outputs": [],
   "source": [
    "rf_test_accuracy = accuracy_score(rf_test_predict,y_test)\n",
    "print(\"Testing accuracy of random forest\",rf_test_accuracy*100)\n",
    "print(\"Classification report of testing: \\n\",classification_report(rf_test_predict,y_test))"
   ]
  },
  {
   "cell_type": "markdown",
   "metadata": {
    "id": "ecgkTBViZkdO"
   },
   "source": [
    "### HYPER PARAMETER TUNNING WITH RANDOMIZED SEARCH CV"
   ]
  },
  {
   "cell_type": "code",
   "execution_count": null,
   "metadata": {
    "colab": {
     "base_uri": "https://localhost:8080/"
    },
    "id": "Rf4t5NSVbXhA",
    "outputId": "73caca97-3709-4cd3-f7b4-8e8fd44fe525"
   },
   "outputs": [],
   "source": [
    "param_grid = {'n_estimators': [50, 100, 150],  'max_depth': [None, 10, 20], 'min_samples_split': [2, 5, 10],  'min_samples_leaf': [1, 2, 4] }\n",
    "rf_classifier = RandomForestClassifier(random_state=42)\n",
    "grid_search = GridSearchCV(estimator=rf_classifier, param_grid=param_grid, cv=5, scoring='accuracy', n_jobs=-1)\n",
    "grid_search.fit(X_train, y_train)\n",
    "best_params = grid_search.best_params_\n",
    "best_rf_model = grid_search.best_estimator_\n",
    "print(\"Best Hyperparameters:\")\n",
    "print(best_params)\n",
    "best_rf_test_predict = best_rf_model.predict(X_test)"
   ]
  },
  {
   "cell_type": "code",
   "execution_count": null,
   "metadata": {
    "id": "2eNyUCpCbZ-e"
   },
   "outputs": [],
   "source": [
    "rf_clf1 = RandomForestClassifier(**best_params)\n",
    "rf_clf1.fit(X_train,y_train)\n",
    "rf_clf1_predict = rf_clf1.predict(X_test)"
   ]
  },
  {
   "cell_type": "code",
   "execution_count": null,
   "metadata": {
    "colab": {
     "base_uri": "https://localhost:8080/"
    },
    "id": "PfKKx-aZbc01",
    "outputId": "67baade5-9474-4e60-d3b4-c87df8332261"
   },
   "outputs": [],
   "source": [
    "rf_accuracy = accuracy_score(rf_clf1_predict,y_test)\n",
    "print(\"Accuracy after hyperparameter tunning\",rf_accuracy*100)\n",
    "print(\"Classification report: \\n\",classification_report(rf_clf1_predict,y_test))"
   ]
  },
  {
   "cell_type": "markdown",
   "metadata": {
    "id": "qA_KKIVRljUe"
   },
   "source": [
    "## DECISION TREE"
   ]
  },
  {
   "cell_type": "code",
   "execution_count": null,
   "metadata": {
    "id": "LXhGAktOlngp"
   },
   "outputs": [],
   "source": [
    "dt_classifier = DecisionTreeClassifier()\n",
    "dt_classifier.fit(X_train, y_train)\n",
    "dt_train_predict = dt_classifier.predict(X_train)"
   ]
  },
  {
   "cell_type": "code",
   "execution_count": null,
   "metadata": {
    "colab": {
     "base_uri": "https://localhost:8080/"
    },
    "id": "KoXBFsltlpHZ",
    "outputId": "d5a228b0-c399-465e-f3e6-7f1f85d08762"
   },
   "outputs": [],
   "source": [
    "dt_train_accuracy = accuracy_score(dt_train_predict, y_train)\n",
    "print(\"Training accuracy of Decision Tree classifier model:\", dt_train_accuracy * 100)\n",
    "print(\"Decision Tree classifier Classification report:\\n\", classification_report(dt_train_predict, y_train))\n"
   ]
  },
  {
   "cell_type": "code",
   "execution_count": null,
   "metadata": {
    "colab": {
     "base_uri": "https://localhost:8080/"
    },
    "id": "DzMDuElolrel",
    "outputId": "867ca80b-c974-4848-cfb5-3c04871693a7"
   },
   "outputs": [],
   "source": [
    "dt_test_predict = dt_classifier.predict(X_test)\n",
    "dt_test_accuracy = accuracy_score(dt_test_predict, y_test)\n",
    "print(\"Testing accuracy of Decision Tree classifier model:\", dt_test_accuracy * 100)\n",
    "print(\"Decision Tree classifier Classification report for testing data:\\n\", classification_report(dt_test_predict, y_test))"
   ]
  },
  {
   "cell_type": "markdown",
   "metadata": {
    "id": "aCEcD9vhltFR"
   },
   "source": [
    "## Hyperparameter tuning using grid search"
   ]
  },
  {
   "cell_type": "code",
   "execution_count": null,
   "metadata": {
    "colab": {
     "base_uri": "https://localhost:8080/"
    },
    "id": "q7wFGEHwlwiF",
    "outputId": "41612d38-5d40-43c3-d1ef-d35851482929"
   },
   "outputs": [],
   "source": [
    "param_grid_dt = {\n",
    "    'criterion': ['gini', 'entropy'],\n",
    "    'max_depth': [None, 5, 10, 15, 20],\n",
    "    'min_samples_split': [2, 5, 10],\n",
    "    'min_samples_leaf': [1, 2, 4],\n",
    "    'max_features': ['auto', 'sqrt', 'log2']\n",
    "}\n",
    "dt_classifier = DecisionTreeClassifier(random_state=42)\n",
    "grid_search_dt = GridSearchCV(estimator=dt_classifier, param_grid=param_grid_dt, cv=5, scoring='accuracy', n_jobs=-1)\n",
    "grid_search_dt.fit(X_train, y_train)\n",
    "best_params_dt = grid_search_dt.best_params_\n",
    "best_dt_model = grid_search_dt.best_estimator_\n",
    "print(\"Best Hyperparameters for Decision Tree:\")\n",
    "print(best_params_dt)\n",
    "best_dt_test_predict = best_dt_model.predict(X_test)"
   ]
  },
  {
   "cell_type": "code",
   "execution_count": null,
   "metadata": {
    "id": "ZJXOzANLmiU_"
   },
   "outputs": [],
   "source": [
    "best_dt_classifier = DecisionTreeClassifier(**best_params_dt)\n",
    "best_dt_classifier.fit(X_train, y_train)\n",
    "best_dt_test_predict = best_dt_classifier.predict(X_test)"
   ]
  },
  {
   "cell_type": "code",
   "execution_count": null,
   "metadata": {
    "colab": {
     "base_uri": "https://localhost:8080/"
    },
    "id": "6bDfKvAemkOZ",
    "outputId": "7184e928-63da-48f4-9e2b-f62e43433992"
   },
   "outputs": [],
   "source": [
    "best_dt_test_accuracy = accuracy_score(best_dt_test_predict, y_test)\n",
    "print(\"Accuracy after hyperparameter tunning:\", best_dt_test_accuracy * 100)\n",
    "print(\"Classification Report for Testing Data with Best Decision Tree Model:\\n\", classification_report(best_dt_test_predict, y_test))\n"
   ]
  },
  {
   "cell_type": "markdown",
   "metadata": {
    "id": "3DjEIJkBlLiS"
   },
   "source": [
    "## GRADIENT BOOSTING"
   ]
  },
  {
   "cell_type": "code",
   "execution_count": null,
   "metadata": {
    "id": "fg1Gkwqkbd7M"
   },
   "outputs": [],
   "source": [
    "gb_classifier = GradientBoostingClassifier()\n",
    "gb_classifier.fit(X_train, y_train)\n",
    "gb_train_predict = gb_classifier.predict(X_train)"
   ]
  },
  {
   "cell_type": "code",
   "execution_count": null,
   "metadata": {
    "colab": {
     "base_uri": "https://localhost:8080/"
    },
    "id": "PPveuhQwlNzr",
    "outputId": "b80bf839-d953-458e-fd9c-b9458afc450b"
   },
   "outputs": [],
   "source": [
    "gb_train_accuracy = accuracy_score(gb_train_predict, y_train)\n",
    "print(\"Training accuracy of Gradient Boosting classifier model:\", gb_train_accuracy * 100)\n",
    "print(\"Gradient Boosting classifier Classification report for training data:\\n\", classification_report(gb_train_predict, y_train))\n"
   ]
  },
  {
   "cell_type": "code",
   "execution_count": null,
   "metadata": {
    "colab": {
     "base_uri": "https://localhost:8080/"
    },
    "id": "_nd6EC6OlTai",
    "outputId": "203a6f6f-efe5-4a83-9333-49a81dd2d490"
   },
   "outputs": [],
   "source": [
    "gb_test_predict = gb_classifier.predict(X_test)\n",
    "gb_test_accuracy = accuracy_score(gb_test_predict, y_test)\n",
    "print(\"Testing accuracy of Gradient Boosting classifier model:\", gb_test_accuracy * 100)\n",
    "print(\"Gradient Boosting classifier Classification report for testing data:\\n\", classification_report(gb_test_predict, y_test))\n"
   ]
  },
  {
   "cell_type": "markdown",
   "metadata": {
    "id": "p4QnvJG2lWjF"
   },
   "source": [
    "\n",
    "### Hyperparameter tuning using grid search"
   ]
  },
  {
   "cell_type": "code",
   "execution_count": null,
   "metadata": {
    "colab": {
     "base_uri": "https://localhost:8080/"
    },
    "id": "pgXYhU8QlVI1",
    "outputId": "961ceab1-15ba-4fda-9260-41f2a323fd1a"
   },
   "outputs": [],
   "source": [
    "param_dist_gb = {\n",
    "    'n_estimators': [50, 100, 150],\n",
    "    'learning_rate': [0.01, 0.1, 0.2],\n",
    "    'max_depth': [3, 4, 5],\n",
    "    'min_samples_split': [2, 5, 10],\n",
    "    'min_samples_leaf': [1, 2, 4],\n",
    "    'subsample': [0.8, 0.9, 1.0]\n",
    "}\n",
    "gb_classifier = GradientBoostingClassifier(random_state=42)\n",
    "random_search_gb = RandomizedSearchCV(estimator=gb_classifier, param_distributions=param_dist_gb,\n",
    "                                       n_iter=10, cv=5, scoring='accuracy', n_jobs=-1, random_state=42)\n",
    "random_search_gb.fit(X_train, y_train)\n",
    "best_params_gb_random = random_search_gb.best_params_\n",
    "best_gb_model_random = random_search_gb.best_estimator_\n",
    "print(\"Best Hyperparameters for Gradient Boosting (Randomized Search):\")\n",
    "print(best_params_gb_random)\n",
    "best_gb_test_predict_random = best_gb_model_random.predict(X_test)"
   ]
  },
  {
   "cell_type": "code",
   "execution_count": null,
   "metadata": {
    "id": "WIFeAhBdlZH2"
   },
   "outputs": [],
   "source": [
    "best_gb_model_random = GradientBoostingClassifier(subsample=0.9, n_estimators=100, min_samples_split=2,\n",
    "                                                  min_samples_leaf=2, max_depth=4, learning_rate=0.1, random_state=42)\n",
    "best_gb_model_random.fit(X_train, y_train)\n",
    "best_gb_test_predict_random = best_gb_model_random.predict(X_test)"
   ]
  },
  {
   "cell_type": "code",
   "execution_count": null,
   "metadata": {
    "colab": {
     "base_uri": "https://localhost:8080/"
    },
    "id": "6nZsRzEXlbjx",
    "outputId": "54b12eac-0ed2-4bed-aec1-381b0460f11d"
   },
   "outputs": [],
   "source": [
    "best_gb_test_accuracy_random = accuracy_score(best_gb_test_predict_random, y_test)\n",
    "print(f\"Testing Accuracy with Best Gradient Boosting Model (Randomized Search): {best_gb_test_accuracy_random * 100:.2f}%\")\n",
    "print(\"Classification Report for Testing Data with Best Gradient Boosting Model (Randomized Search):\\n\",\n",
    "      classification_report(best_gb_test_predict_random, y_test))"
   ]
  },
  {
   "cell_type": "markdown",
   "metadata": {
    "id": "Q2zxk6qZsiCu"
   },
   "source": [
    "**Conclusion:**\n",
    "\n",
    "* SVM : Well perform on training data with accuracy 96.85% but the test score is 94.85%, after applying Hyperparameter tunning score is 97.52% means model is a overfit.\n",
    "\n",
    "* Random Forest : Very well performs in training data with accuracy of 100% and test accuracy of 94.66% after applying Hyperparameter Tuning score is 95.80% .\n",
    "\n",
    "* Decision Tree: Very well perform on training data with accuracy of 100% but the test score is 82%, after applying hyperparameter tuning score is 80% which is rather low compared to test score before hyperparameter tuning.\n",
    "\n",
    "* Gradient Boosting: Training Accuracy of 99% and Testing Accuracy of 93% , after applying hyperparameter tuning score is 93.90%.\n",
    "\n",
    "\n",
    "**As a conclusion of all the algorithms,The Random Forest and Gradient Boosting Model Perform well with good accuracy score**"
   ]
  },
  {
   "cell_type": "markdown",
   "metadata": {
    "id": "g2f38OI2vU3p"
   },
   "source": [
    "## MODEL SAVING"
   ]
  },
  {
   "cell_type": "code",
   "execution_count": null,
   "metadata": {
    "id": "cU4hLL5Wlc56"
   },
   "outputs": [],
   "source": [
    "import pickle\n",
    "with open('random_forest_model.pkl', 'wb') as file:\n",
    "    pickle.dump(rf_clf1, file)"
   ]
  },
  {
   "cell_type": "code",
   "execution_count": null,
   "metadata": {
    "id": "D-3vIUV9suUU"
   },
   "outputs": [],
   "source": []
  }
 ],
 "metadata": {
  "colab": {
   "provenance": []
  },
  "kernelspec": {
   "display_name": "Python 3 (ipykernel)",
   "language": "python",
   "name": "python3"
  },
  "language_info": {
   "codemirror_mode": {
    "name": "ipython",
    "version": 3
   },
   "file_extension": ".py",
   "mimetype": "text/x-python",
   "name": "python",
   "nbconvert_exporter": "python",
   "pygments_lexer": "ipython3",
   "version": "3.11.5"
  },
  "widgets": {
   "application/vnd.jupyter.widget-state+json": {
    "252dbfb7a0714115a8f91ac121c3b823": {
     "model_module": "@jupyter-widgets/controls",
     "model_module_version": "1.5.0",
     "model_name": "DescriptionStyleModel",
     "state": {
      "_model_module": "@jupyter-widgets/controls",
      "_model_module_version": "1.5.0",
      "_model_name": "DescriptionStyleModel",
      "_view_count": null,
      "_view_module": "@jupyter-widgets/base",
      "_view_module_version": "1.2.0",
      "_view_name": "StyleView",
      "description_width": ""
     }
    },
    "4c16bd03e32842aeb259ee673cadba56": {
     "model_module": "@jupyter-widgets/controls",
     "model_module_version": "1.5.0",
     "model_name": "HTMLModel",
     "state": {
      "_dom_classes": [],
      "_model_module": "@jupyter-widgets/controls",
      "_model_module_version": "1.5.0",
      "_model_name": "HTMLModel",
      "_view_count": null,
      "_view_module": "@jupyter-widgets/controls",
      "_view_module_version": "1.5.0",
      "_view_name": "HTMLView",
      "description": "",
      "description_tooltip": null,
      "layout": "IPY_MODEL_9c2f96d0b5cb4d25a56e789fbc191c37",
      "placeholder": "​",
      "style": "IPY_MODEL_f01ad5664c3544f4abde7391efcb98c3",
      "value": "Done! Use &#x27;show&#x27; commands to display/save.   "
     }
    },
    "7312269465854ab3bd6ecf9302d732ab": {
     "model_module": "@jupyter-widgets/controls",
     "model_module_version": "1.5.0",
     "model_name": "ProgressStyleModel",
     "state": {
      "_model_module": "@jupyter-widgets/controls",
      "_model_module_version": "1.5.0",
      "_model_name": "ProgressStyleModel",
      "_view_count": null,
      "_view_module": "@jupyter-widgets/base",
      "_view_module_version": "1.2.0",
      "_view_name": "StyleView",
      "bar_color": null,
      "description_width": ""
     }
    },
    "7770169814d94141bad77b5f7b68de1a": {
     "model_module": "@jupyter-widgets/base",
     "model_module_version": "1.2.0",
     "model_name": "LayoutModel",
     "state": {
      "_model_module": "@jupyter-widgets/base",
      "_model_module_version": "1.2.0",
      "_model_name": "LayoutModel",
      "_view_count": null,
      "_view_module": "@jupyter-widgets/base",
      "_view_module_version": "1.2.0",
      "_view_name": "LayoutView",
      "align_content": null,
      "align_items": null,
      "align_self": null,
      "border": null,
      "bottom": null,
      "display": null,
      "flex": null,
      "flex_flow": null,
      "grid_area": null,
      "grid_auto_columns": null,
      "grid_auto_flow": null,
      "grid_auto_rows": null,
      "grid_column": null,
      "grid_gap": null,
      "grid_row": null,
      "grid_template_areas": null,
      "grid_template_columns": null,
      "grid_template_rows": null,
      "height": null,
      "justify_content": null,
      "justify_items": null,
      "left": null,
      "margin": null,
      "max_height": null,
      "max_width": null,
      "min_height": null,
      "min_width": null,
      "object_fit": null,
      "object_position": null,
      "order": null,
      "overflow": null,
      "overflow_x": null,
      "overflow_y": null,
      "padding": null,
      "right": null,
      "top": null,
      "visibility": null,
      "width": null
     }
    },
    "95b0c128f7264d5e82ef3462b9eb6812": {
     "model_module": "@jupyter-widgets/controls",
     "model_module_version": "1.5.0",
     "model_name": "HTMLModel",
     "state": {
      "_dom_classes": [],
      "_model_module": "@jupyter-widgets/controls",
      "_model_module_version": "1.5.0",
      "_model_name": "HTMLModel",
      "_view_count": null,
      "_view_module": "@jupyter-widgets/controls",
      "_view_module_version": "1.5.0",
      "_view_name": "HTMLView",
      "description": "",
      "description_tooltip": null,
      "layout": "IPY_MODEL_7770169814d94141bad77b5f7b68de1a",
      "placeholder": "​",
      "style": "IPY_MODEL_252dbfb7a0714115a8f91ac121c3b823",
      "value": " [100%]   00:07 -&gt; (00:00 left)"
     }
    },
    "97f164fb01b7483b9ef60a61f63fb94e": {
     "model_module": "@jupyter-widgets/controls",
     "model_module_version": "1.5.0",
     "model_name": "FloatProgressModel",
     "state": {
      "_dom_classes": [],
      "_model_module": "@jupyter-widgets/controls",
      "_model_module_version": "1.5.0",
      "_model_name": "FloatProgressModel",
      "_view_count": null,
      "_view_module": "@jupyter-widgets/controls",
      "_view_module_version": "1.5.0",
      "_view_name": "ProgressView",
      "bar_style": "success",
      "description": "",
      "description_tooltip": null,
      "layout": "IPY_MODEL_c94639e9c25842678c43fe7660a9a74a",
      "max": 1,
      "min": 0,
      "orientation": "horizontal",
      "style": "IPY_MODEL_7312269465854ab3bd6ecf9302d732ab",
      "value": 1
     }
    },
    "9c2f96d0b5cb4d25a56e789fbc191c37": {
     "model_module": "@jupyter-widgets/base",
     "model_module_version": "1.2.0",
     "model_name": "LayoutModel",
     "state": {
      "_model_module": "@jupyter-widgets/base",
      "_model_module_version": "1.2.0",
      "_model_name": "LayoutModel",
      "_view_count": null,
      "_view_module": "@jupyter-widgets/base",
      "_view_module_version": "1.2.0",
      "_view_name": "LayoutView",
      "align_content": null,
      "align_items": null,
      "align_self": null,
      "border": null,
      "bottom": null,
      "display": null,
      "flex": null,
      "flex_flow": null,
      "grid_area": null,
      "grid_auto_columns": null,
      "grid_auto_flow": null,
      "grid_auto_rows": null,
      "grid_column": null,
      "grid_gap": null,
      "grid_row": null,
      "grid_template_areas": null,
      "grid_template_columns": null,
      "grid_template_rows": null,
      "height": null,
      "justify_content": null,
      "justify_items": null,
      "left": null,
      "margin": null,
      "max_height": null,
      "max_width": null,
      "min_height": null,
      "min_width": null,
      "object_fit": null,
      "object_position": null,
      "order": null,
      "overflow": null,
      "overflow_x": null,
      "overflow_y": null,
      "padding": null,
      "right": null,
      "top": null,
      "visibility": null,
      "width": null
     }
    },
    "a8196e4495d84480b55553b05c517a45": {
     "model_module": "@jupyter-widgets/base",
     "model_module_version": "1.2.0",
     "model_name": "LayoutModel",
     "state": {
      "_model_module": "@jupyter-widgets/base",
      "_model_module_version": "1.2.0",
      "_model_name": "LayoutModel",
      "_view_count": null,
      "_view_module": "@jupyter-widgets/base",
      "_view_module_version": "1.2.0",
      "_view_name": "LayoutView",
      "align_content": null,
      "align_items": null,
      "align_self": null,
      "border": null,
      "bottom": null,
      "display": "inline-flex",
      "flex": null,
      "flex_flow": "row wrap",
      "grid_area": null,
      "grid_auto_columns": null,
      "grid_auto_flow": null,
      "grid_auto_rows": null,
      "grid_column": null,
      "grid_gap": null,
      "grid_row": null,
      "grid_template_areas": null,
      "grid_template_columns": null,
      "grid_template_rows": null,
      "height": null,
      "justify_content": null,
      "justify_items": null,
      "left": null,
      "margin": null,
      "max_height": null,
      "max_width": null,
      "min_height": null,
      "min_width": null,
      "object_fit": null,
      "object_position": null,
      "order": null,
      "overflow": null,
      "overflow_x": null,
      "overflow_y": null,
      "padding": null,
      "right": null,
      "top": null,
      "visibility": null,
      "width": "100%"
     }
    },
    "c94639e9c25842678c43fe7660a9a74a": {
     "model_module": "@jupyter-widgets/base",
     "model_module_version": "1.2.0",
     "model_name": "LayoutModel",
     "state": {
      "_model_module": "@jupyter-widgets/base",
      "_model_module_version": "1.2.0",
      "_model_name": "LayoutModel",
      "_view_count": null,
      "_view_module": "@jupyter-widgets/base",
      "_view_module_version": "1.2.0",
      "_view_name": "LayoutView",
      "align_content": null,
      "align_items": null,
      "align_self": null,
      "border": null,
      "bottom": null,
      "display": null,
      "flex": "2",
      "flex_flow": null,
      "grid_area": null,
      "grid_auto_columns": null,
      "grid_auto_flow": null,
      "grid_auto_rows": null,
      "grid_column": null,
      "grid_gap": null,
      "grid_row": null,
      "grid_template_areas": null,
      "grid_template_columns": null,
      "grid_template_rows": null,
      "height": null,
      "justify_content": null,
      "justify_items": null,
      "left": null,
      "margin": null,
      "max_height": null,
      "max_width": null,
      "min_height": null,
      "min_width": null,
      "object_fit": null,
      "object_position": null,
      "order": null,
      "overflow": null,
      "overflow_x": null,
      "overflow_y": null,
      "padding": null,
      "right": null,
      "top": null,
      "visibility": null,
      "width": null
     }
    },
    "cf191212c8f44e7e91bd75cc868cc558": {
     "model_module": "@jupyter-widgets/controls",
     "model_module_version": "1.5.0",
     "model_name": "HBoxModel",
     "state": {
      "_dom_classes": [],
      "_model_module": "@jupyter-widgets/controls",
      "_model_module_version": "1.5.0",
      "_model_name": "HBoxModel",
      "_view_count": null,
      "_view_module": "@jupyter-widgets/controls",
      "_view_module_version": "1.5.0",
      "_view_name": "HBoxView",
      "box_style": "",
      "children": [
       "IPY_MODEL_4c16bd03e32842aeb259ee673cadba56",
       "IPY_MODEL_97f164fb01b7483b9ef60a61f63fb94e",
       "IPY_MODEL_95b0c128f7264d5e82ef3462b9eb6812"
      ],
      "layout": "IPY_MODEL_a8196e4495d84480b55553b05c517a45"
     }
    },
    "f01ad5664c3544f4abde7391efcb98c3": {
     "model_module": "@jupyter-widgets/controls",
     "model_module_version": "1.5.0",
     "model_name": "DescriptionStyleModel",
     "state": {
      "_model_module": "@jupyter-widgets/controls",
      "_model_module_version": "1.5.0",
      "_model_name": "DescriptionStyleModel",
      "_view_count": null,
      "_view_module": "@jupyter-widgets/base",
      "_view_module_version": "1.2.0",
      "_view_name": "StyleView",
      "description_width": ""
     }
    }
   }
  }
 },
 "nbformat": 4,
 "nbformat_minor": 1
}
